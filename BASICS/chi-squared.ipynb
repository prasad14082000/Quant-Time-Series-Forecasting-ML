{
 "cells": [
  {
   "cell_type": "markdown",
   "id": "f1874e2e",
   "metadata": {},
   "source": [
    "***CHI-SQUARE FOR FEATURE SLEECTION***"
   ]
  },
  {
   "cell_type": "code",
   "execution_count": 1,
   "id": "50779431",
   "metadata": {},
   "outputs": [],
   "source": [
    "import pandas as pd\n",
    "import numpy as np\n",
    "import matplotlib.pyplot as plt\n",
    "import math\n",
    "import seaborn as sns\n",
    "\n",
    "import warnings \n",
    "warnings.filterwarnings('ignore')\n",
    "\n",
    "import yfinance as yf"
   ]
  },
  {
   "cell_type": "code",
   "execution_count": 2,
   "id": "e20925c9",
   "metadata": {},
   "outputs": [
    {
     "name": "stdout",
     "output_type": "stream",
     "text": [
      "YF.download() has changed argument auto_adjust default to True\n"
     ]
    },
    {
     "name": "stderr",
     "output_type": "stream",
     "text": [
      "[*********************100%***********************]  1 of 1 completed\n"
     ]
    },
    {
     "data": {
      "text/html": [
       "<div>\n",
       "<style scoped>\n",
       "    .dataframe tbody tr th:only-of-type {\n",
       "        vertical-align: middle;\n",
       "    }\n",
       "\n",
       "    .dataframe tbody tr th {\n",
       "        vertical-align: top;\n",
       "    }\n",
       "\n",
       "    .dataframe thead th {\n",
       "        text-align: right;\n",
       "    }\n",
       "</style>\n",
       "<table border=\"1\" class=\"dataframe\">\n",
       "  <thead>\n",
       "    <tr style=\"text-align: right;\">\n",
       "      <th>Price</th>\n",
       "      <th>Close</th>\n",
       "      <th>High</th>\n",
       "      <th>Low</th>\n",
       "      <th>Open</th>\n",
       "      <th>Volume</th>\n",
       "    </tr>\n",
       "    <tr>\n",
       "      <th>Date</th>\n",
       "      <th></th>\n",
       "      <th></th>\n",
       "      <th></th>\n",
       "      <th></th>\n",
       "      <th></th>\n",
       "    </tr>\n",
       "  </thead>\n",
       "  <tbody>\n",
       "    <tr>\n",
       "      <th>2004-01-02</th>\n",
       "      <td>0.319777</td>\n",
       "      <td>0.326839</td>\n",
       "      <td>0.318274</td>\n",
       "      <td>0.323833</td>\n",
       "      <td>144642400</td>\n",
       "    </tr>\n",
       "    <tr>\n",
       "      <th>2004-01-05</th>\n",
       "      <td>0.333151</td>\n",
       "      <td>0.336456</td>\n",
       "      <td>0.321880</td>\n",
       "      <td>0.321880</td>\n",
       "      <td>395018400</td>\n",
       "    </tr>\n",
       "    <tr>\n",
       "      <th>2004-01-06</th>\n",
       "      <td>0.331948</td>\n",
       "      <td>0.336907</td>\n",
       "      <td>0.326239</td>\n",
       "      <td>0.334352</td>\n",
       "      <td>509348000</td>\n",
       "    </tr>\n",
       "    <tr>\n",
       "      <th>2004-01-07</th>\n",
       "      <td>0.339462</td>\n",
       "      <td>0.343069</td>\n",
       "      <td>0.329544</td>\n",
       "      <td>0.332099</td>\n",
       "      <td>586874400</td>\n",
       "    </tr>\n",
       "    <tr>\n",
       "      <th>2004-01-08</th>\n",
       "      <td>0.351033</td>\n",
       "      <td>0.356593</td>\n",
       "      <td>0.340363</td>\n",
       "      <td>0.343219</td>\n",
       "      <td>460303200</td>\n",
       "    </tr>\n",
       "  </tbody>\n",
       "</table>\n",
       "</div>"
      ],
      "text/plain": [
       "Price          Close      High       Low      Open     Volume\n",
       "Date                                                         \n",
       "2004-01-02  0.319777  0.326839  0.318274  0.323833  144642400\n",
       "2004-01-05  0.333151  0.336456  0.321880  0.321880  395018400\n",
       "2004-01-06  0.331948  0.336907  0.326239  0.334352  509348000\n",
       "2004-01-07  0.339462  0.343069  0.329544  0.332099  586874400\n",
       "2004-01-08  0.351033  0.356593  0.340363  0.343219  460303200"
      ]
     },
     "execution_count": 2,
     "metadata": {},
     "output_type": "execute_result"
    }
   ],
   "source": [
    "stock = 'AAPL'\n",
    "start = '2004-01-01'\n",
    "end = '2024-01-01'\n",
    "\n",
    "dataset = yf.download(stock, start, end)\n",
    "dataset.columns = dataset.columns.get_level_values(0)\n",
    "dataset.head()"
   ]
  },
  {
   "cell_type": "code",
   "execution_count": 5,
   "id": "19032c2e",
   "metadata": {},
   "outputs": [
    {
     "data": {
      "text/html": [
       "<div>\n",
       "<style scoped>\n",
       "    .dataframe tbody tr th:only-of-type {\n",
       "        vertical-align: middle;\n",
       "    }\n",
       "\n",
       "    .dataframe tbody tr th {\n",
       "        vertical-align: top;\n",
       "    }\n",
       "\n",
       "    .dataframe thead th {\n",
       "        text-align: right;\n",
       "    }\n",
       "</style>\n",
       "<table border=\"1\" class=\"dataframe\">\n",
       "  <thead>\n",
       "    <tr style=\"text-align: right;\">\n",
       "      <th>Price</th>\n",
       "      <th>Close</th>\n",
       "      <th>High</th>\n",
       "      <th>Low</th>\n",
       "      <th>Open</th>\n",
       "      <th>Volume</th>\n",
       "      <th>Increase_Decrease</th>\n",
       "      <th>Buy_Sell_on_Open</th>\n",
       "      <th>Buy_Sell</th>\n",
       "      <th>Returns</th>\n",
       "    </tr>\n",
       "    <tr>\n",
       "      <th>Date</th>\n",
       "      <th></th>\n",
       "      <th></th>\n",
       "      <th></th>\n",
       "      <th></th>\n",
       "      <th></th>\n",
       "      <th></th>\n",
       "      <th></th>\n",
       "      <th></th>\n",
       "      <th></th>\n",
       "    </tr>\n",
       "  </thead>\n",
       "  <tbody>\n",
       "    <tr>\n",
       "      <th>2004-01-06</th>\n",
       "      <td>0.331948</td>\n",
       "      <td>0.336907</td>\n",
       "      <td>0.326239</td>\n",
       "      <td>0.334352</td>\n",
       "      <td>509348000</td>\n",
       "      <td>1</td>\n",
       "      <td>0</td>\n",
       "      <td>1</td>\n",
       "      <td>-0.003610</td>\n",
       "    </tr>\n",
       "    <tr>\n",
       "      <th>2004-01-07</th>\n",
       "      <td>0.339462</td>\n",
       "      <td>0.343069</td>\n",
       "      <td>0.329544</td>\n",
       "      <td>0.332099</td>\n",
       "      <td>586874400</td>\n",
       "      <td>0</td>\n",
       "      <td>1</td>\n",
       "      <td>1</td>\n",
       "      <td>0.022636</td>\n",
       "    </tr>\n",
       "    <tr>\n",
       "      <th>2004-01-08</th>\n",
       "      <td>0.351033</td>\n",
       "      <td>0.356593</td>\n",
       "      <td>0.340363</td>\n",
       "      <td>0.343219</td>\n",
       "      <td>460303200</td>\n",
       "      <td>0</td>\n",
       "      <td>1</td>\n",
       "      <td>0</td>\n",
       "      <td>0.034085</td>\n",
       "    </tr>\n",
       "    <tr>\n",
       "      <th>2004-01-09</th>\n",
       "      <td>0.345623</td>\n",
       "      <td>0.362604</td>\n",
       "      <td>0.342467</td>\n",
       "      <td>0.349079</td>\n",
       "      <td>427459200</td>\n",
       "      <td>1</td>\n",
       "      <td>1</td>\n",
       "      <td>1</td>\n",
       "      <td>-0.015412</td>\n",
       "    </tr>\n",
       "    <tr>\n",
       "      <th>2004-01-12</th>\n",
       "      <td>0.356593</td>\n",
       "      <td>0.360650</td>\n",
       "      <td>0.347126</td>\n",
       "      <td>0.349380</td>\n",
       "      <td>487547200</td>\n",
       "      <td>1</td>\n",
       "      <td>1</td>\n",
       "      <td>1</td>\n",
       "      <td>0.031740</td>\n",
       "    </tr>\n",
       "  </tbody>\n",
       "</table>\n",
       "</div>"
      ],
      "text/plain": [
       "Price          Close      High       Low      Open     Volume  \\\n",
       "Date                                                            \n",
       "2004-01-06  0.331948  0.336907  0.326239  0.334352  509348000   \n",
       "2004-01-07  0.339462  0.343069  0.329544  0.332099  586874400   \n",
       "2004-01-08  0.351033  0.356593  0.340363  0.343219  460303200   \n",
       "2004-01-09  0.345623  0.362604  0.342467  0.349079  427459200   \n",
       "2004-01-12  0.356593  0.360650  0.347126  0.349380  487547200   \n",
       "\n",
       "Price       Increase_Decrease  Buy_Sell_on_Open  Buy_Sell   Returns  \n",
       "Date                                                                 \n",
       "2004-01-06                  1                 0         1 -0.003610  \n",
       "2004-01-07                  0                 1         1  0.022636  \n",
       "2004-01-08                  0                 1         0  0.034085  \n",
       "2004-01-09                  1                 1         1 -0.015412  \n",
       "2004-01-12                  1                 1         1  0.031740  "
      ]
     },
     "execution_count": 5,
     "metadata": {},
     "output_type": "execute_result"
    }
   ],
   "source": [
    "dataset['Increase_Decrease'] = np.where(dataset['Volume'].shift(-1) > dataset['Volume'],1,0)\n",
    "dataset['Buy_Sell_on_Open'] = np.where(dataset['Open'].shift(-1) > dataset['Open'],1,0)\n",
    "dataset['Buy_Sell'] = np.where(dataset['Close'].shift(-1) > dataset['Close'],1,0)\n",
    "dataset['Returns'] = dataset['Close'].pct_change()\n",
    "dataset = dataset.dropna()\n",
    "dataset.head()"
   ]
  },
  {
   "cell_type": "code",
   "execution_count": 6,
   "id": "9cccd121",
   "metadata": {},
   "outputs": [
    {
     "data": {
      "text/plain": [
       "(5031, 9)"
      ]
     },
     "execution_count": 6,
     "metadata": {},
     "output_type": "execute_result"
    }
   ],
   "source": [
    "dataset.shape"
   ]
  },
  {
   "cell_type": "code",
   "execution_count": 7,
   "id": "8cfe79e8",
   "metadata": {},
   "outputs": [],
   "source": [
    "X = dataset[['Open', 'High', 'Low','Close', 'Volume', 'Buy_Sell_on_Open', 'Buy_Sell', 'Returns']]\n",
    "X = X.astype(int)\n",
    "y = dataset['Increase_Decrease']"
   ]
  },
  {
   "cell_type": "code",
   "execution_count": 8,
   "id": "8ac44933",
   "metadata": {},
   "outputs": [],
   "source": [
    "from sklearn.feature_selection import SelectKBest\n",
    "from sklearn.feature_selection import chi2"
   ]
  },
  {
   "cell_type": "code",
   "execution_count": 10,
   "id": "574a6add",
   "metadata": {},
   "outputs": [
    {
     "name": "stdout",
     "output_type": "stream",
     "text": [
      "Original number of features: 8\n",
      "Reduced number of features: 2\n"
     ]
    }
   ],
   "source": [
    "#select two features with highest chi-squared statistics\n",
    "\n",
    "chi2_selector = SelectKBest(chi2, k = 2)\n",
    "x_kbest = chi2_selector.fit_transform(X, y)\n",
    "\n",
    "print('Original number of features:', X.shape[1])\n",
    "print('Reduced number of features:', x_kbest.shape[1])"
   ]
  },
  {
   "cell_type": "code",
   "execution_count": 11,
   "id": "7b4d09ae",
   "metadata": {},
   "outputs": [
    {
     "data": {
      "text/plain": [
       "array([1.43028247e+00, 3.06438728e+00, 4.98127993e-01, 1.70776324e+00,\n",
       "       3.38435213e+10, 1.65596658e+00, 3.88449375e+00,            nan])"
      ]
     },
     "execution_count": 11,
     "metadata": {},
     "output_type": "execute_result"
    }
   ],
   "source": [
    "chi2_selector.scores_"
   ]
  },
  {
   "cell_type": "code",
   "execution_count": 12,
   "id": "1aa7f69a",
   "metadata": {},
   "outputs": [
    {
     "data": {
      "text/plain": [
       "array([0.23171834, 0.08002533, 0.48032382, 0.19127584, 0.        ,\n",
       "       0.19814879, 0.04873395,        nan])"
      ]
     },
     "execution_count": 12,
     "metadata": {},
     "output_type": "execute_result"
    }
   ],
   "source": [
    "chi2_selector.pvalues_"
   ]
  },
  {
   "cell_type": "code",
   "execution_count": 13,
   "id": "e41bcef7",
   "metadata": {},
   "outputs": [
    {
     "name": "stdout",
     "output_type": "stream",
     "text": [
      "  Feat_names   Chi-Squared\n",
      "0     Volume  3.384352e+10\n",
      "1   Buy_Sell  3.884494e+00\n"
     ]
    }
   ],
   "source": [
    "names = X.columns.values[chi2_selector.get_support()]\n",
    "scores = chi2_selector.scores_[chi2_selector.get_support()]\n",
    "names_scores = list(zip(names, scores))\n",
    "ns_df = pd.DataFrame(data = names_scores, columns=['Feat_names', 'Chi-Squared'])\n",
    "#Sort the dataframe for better visualization\n",
    "ns_df_sorted = ns_df.sort_values(['Chi-Squared', 'Feat_names'], ascending = [False, True])\n",
    "print(ns_df_sorted)"
   ]
  },
  {
   "cell_type": "code",
   "execution_count": null,
   "id": "2f5f71db",
   "metadata": {},
   "outputs": [],
   "source": []
  },
  {
   "cell_type": "code",
   "execution_count": null,
   "id": "9b0d0e00",
   "metadata": {},
   "outputs": [],
   "source": []
  },
  {
   "cell_type": "code",
   "execution_count": null,
   "id": "959d0a87",
   "metadata": {},
   "outputs": [],
   "source": []
  },
  {
   "cell_type": "code",
   "execution_count": null,
   "id": "28aac6ba",
   "metadata": {},
   "outputs": [],
   "source": []
  }
 ],
 "metadata": {
  "kernelspec": {
   "display_name": "myenv",
   "language": "python",
   "name": "python3"
  },
  "language_info": {
   "codemirror_mode": {
    "name": "ipython",
    "version": 3
   },
   "file_extension": ".py",
   "mimetype": "text/x-python",
   "name": "python",
   "nbconvert_exporter": "python",
   "pygments_lexer": "ipython3",
   "version": "3.12.6"
  }
 },
 "nbformat": 4,
 "nbformat_minor": 5
}
