{
 "cells": [
  {
   "cell_type": "markdown",
   "id": "e8bf5620",
   "metadata": {},
   "source": [
    "**NUMPY**"
   ]
  },
  {
   "cell_type": "code",
   "execution_count": 2,
   "id": "58480469",
   "metadata": {},
   "outputs": [],
   "source": [
    "#Numpy Library\n",
    "import numpy as np"
   ]
  },
  {
   "cell_type": "code",
   "execution_count": 3,
   "id": "69e6615a",
   "metadata": {},
   "outputs": [],
   "source": [
    "import warnings\n",
    "warnings.filterwarnings(\"ignore\")"
   ]
  },
  {
   "cell_type": "code",
   "execution_count": 4,
   "id": "64316d5b",
   "metadata": {},
   "outputs": [],
   "source": [
    "import yfinance as yf"
   ]
  },
  {
   "cell_type": "code",
   "execution_count": 7,
   "id": "47f072c7",
   "metadata": {},
   "outputs": [
    {
     "name": "stderr",
     "output_type": "stream",
     "text": [
      "[*********************100%***********************]  1 of 1 completed\n"
     ]
    },
    {
     "data": {
      "text/html": [
       "<div>\n",
       "<style scoped>\n",
       "    .dataframe tbody tr th:only-of-type {\n",
       "        vertical-align: middle;\n",
       "    }\n",
       "\n",
       "    .dataframe tbody tr th {\n",
       "        vertical-align: top;\n",
       "    }\n",
       "\n",
       "    .dataframe thead tr th {\n",
       "        text-align: left;\n",
       "    }\n",
       "\n",
       "    .dataframe thead tr:last-of-type th {\n",
       "        text-align: right;\n",
       "    }\n",
       "</style>\n",
       "<table border=\"1\" class=\"dataframe\">\n",
       "  <thead>\n",
       "    <tr>\n",
       "      <th>Price</th>\n",
       "      <th>Close</th>\n",
       "      <th>High</th>\n",
       "      <th>Low</th>\n",
       "      <th>Open</th>\n",
       "      <th>Volume</th>\n",
       "    </tr>\n",
       "    <tr>\n",
       "      <th>Ticker</th>\n",
       "      <th>AMD</th>\n",
       "      <th>AMD</th>\n",
       "      <th>AMD</th>\n",
       "      <th>AMD</th>\n",
       "      <th>AMD</th>\n",
       "    </tr>\n",
       "    <tr>\n",
       "      <th>Date</th>\n",
       "      <th></th>\n",
       "      <th></th>\n",
       "      <th></th>\n",
       "      <th></th>\n",
       "      <th></th>\n",
       "    </tr>\n",
       "  </thead>\n",
       "  <tbody>\n",
       "    <tr>\n",
       "      <th>2014-01-02</th>\n",
       "      <td>3.95</td>\n",
       "      <td>3.98</td>\n",
       "      <td>3.84</td>\n",
       "      <td>3.85</td>\n",
       "      <td>20548400</td>\n",
       "    </tr>\n",
       "    <tr>\n",
       "      <th>2014-01-03</th>\n",
       "      <td>4.00</td>\n",
       "      <td>4.00</td>\n",
       "      <td>3.88</td>\n",
       "      <td>3.98</td>\n",
       "      <td>22887200</td>\n",
       "    </tr>\n",
       "    <tr>\n",
       "      <th>2014-01-06</th>\n",
       "      <td>4.13</td>\n",
       "      <td>4.18</td>\n",
       "      <td>3.99</td>\n",
       "      <td>4.01</td>\n",
       "      <td>42398300</td>\n",
       "    </tr>\n",
       "    <tr>\n",
       "      <th>2014-01-07</th>\n",
       "      <td>4.18</td>\n",
       "      <td>4.25</td>\n",
       "      <td>4.11</td>\n",
       "      <td>4.19</td>\n",
       "      <td>42932100</td>\n",
       "    </tr>\n",
       "    <tr>\n",
       "      <th>2014-01-08</th>\n",
       "      <td>4.18</td>\n",
       "      <td>4.26</td>\n",
       "      <td>4.14</td>\n",
       "      <td>4.23</td>\n",
       "      <td>30678700</td>\n",
       "    </tr>\n",
       "  </tbody>\n",
       "</table>\n",
       "</div>"
      ],
      "text/plain": [
       "Price      Close  High   Low  Open    Volume\n",
       "Ticker       AMD   AMD   AMD   AMD       AMD\n",
       "Date                                        \n",
       "2014-01-02  3.95  3.98  3.84  3.85  20548400\n",
       "2014-01-03  4.00  4.00  3.88  3.98  22887200\n",
       "2014-01-06  4.13  4.18  3.99  4.01  42398300\n",
       "2014-01-07  4.18  4.25  4.11  4.19  42932100\n",
       "2014-01-08  4.18  4.26  4.14  4.23  30678700"
      ]
     },
     "execution_count": 7,
     "metadata": {},
     "output_type": "execute_result"
    }
   ],
   "source": [
    "symbol = 'AMD'\n",
    "start = '2014-01-01'\n",
    "end = '2024-12-31'\n",
    "\n",
    "dataset = yf.download(symbol, start, end)\n",
    "dataset.head()"
   ]
  },
  {
   "cell_type": "code",
   "execution_count": 8,
   "id": "ed1e352e",
   "metadata": {},
   "outputs": [
    {
     "data": {
      "text/plain": [
       "array([[  3.8499999 ],\n",
       "       [  3.98000002],\n",
       "       [  4.01000023],\n",
       "       ...,\n",
       "       [125.51999664],\n",
       "       [124.37000275],\n",
       "       [123.55999756]], shape=(2767, 1))"
      ]
     },
     "execution_count": 8,
     "metadata": {},
     "output_type": "execute_result"
    }
   ],
   "source": [
    "open_array = np.array(dataset['Open'])\n",
    "open_array"
   ]
  },
  {
   "cell_type": "code",
   "execution_count": 9,
   "id": "ae7ac57b",
   "metadata": {},
   "outputs": [
    {
     "name": "stdout",
     "output_type": "stream",
     "text": [
      "First element: [3.8499999]\n",
      "Second element: [3.98000002]\n",
      "Second element: [123.55999756]\n"
     ]
    }
   ],
   "source": [
    "print(\"First element:\", open_array[0])\n",
    "print(\"Second element:\", open_array[1])\n",
    "print(\"Second element:\", open_array[-1])\n"
   ]
  },
  {
   "cell_type": "code",
   "execution_count": 10,
   "id": "e0cea950",
   "metadata": {},
   "outputs": [
    {
     "name": "stdout",
     "output_type": "stream",
     "text": [
      "[[4.01000023]\n",
      " [4.19000006]\n",
      " [4.23000002]]\n",
      "[[3.8499999 ]\n",
      " [3.98000002]\n",
      " [4.01000023]\n",
      " [4.19000006]\n",
      " [4.23000002]]\n",
      "[[  4.19999981]\n",
      " [  4.09000015]\n",
      " [  4.19000006]\n",
      " ...\n",
      " [125.51999664]\n",
      " [124.37000275]\n",
      " [123.55999756]]\n",
      "[[  3.8499999 ]\n",
      " [  3.98000002]\n",
      " [  4.01000023]\n",
      " ...\n",
      " [125.51999664]\n",
      " [124.37000275]\n",
      " [123.55999756]]\n"
     ]
    }
   ],
   "source": [
    "print(open_array[2:5])\n",
    "print(open_array[:5])\n",
    "print(open_array[5:])\n",
    "print(open_array[:])"
   ]
  },
  {
   "cell_type": "code",
   "execution_count": 11,
   "id": "9395c975",
   "metadata": {},
   "outputs": [],
   "source": [
    "volume = np.array(dataset['Volume'])\n"
   ]
  },
  {
   "cell_type": "code",
   "execution_count": 12,
   "id": "d90c6673",
   "metadata": {},
   "outputs": [
    {
     "name": "stdout",
     "output_type": "stream",
     "text": [
      "[[       0]\n",
      " [22887200]\n",
      " [42398300]\n",
      " ...\n",
      " [24998200]\n",
      " [32924000]\n",
      " [30501600]]\n"
     ]
    }
   ],
   "source": [
    "volume[0] = 0    \n",
    "print(volume) "
   ]
  },
  {
   "cell_type": "code",
   "execution_count": 16,
   "id": "83d92fb8",
   "metadata": {},
   "outputs": [
    {
     "name": "stdout",
     "output_type": "stream",
     "text": [
      "[[       0]\n",
      " [22887200]\n",
      " [       4]\n",
      " ...\n",
      " [24998200]\n",
      " [32924000]\n",
      " [30501600]]\n"
     ]
    }
   ],
   "source": [
    "volume[2:5] = np.array([4, 6, 8]).reshape(-1, 1)\n",
    "print(volume)"
   ]
  },
  {
   "cell_type": "code",
   "execution_count": 18,
   "id": "d3dfd938",
   "metadata": {},
   "outputs": [
    {
     "data": {
      "text/plain": [
       "array([[       0],\n",
       "       [22887200],\n",
       "       [       4],\n",
       "       ...,\n",
       "       [       1],\n",
       "       [       2],\n",
       "       [       3]], shape=(2770, 1))"
      ]
     },
     "execution_count": 18,
     "metadata": {},
     "output_type": "execute_result"
    }
   ],
   "source": [
    "add_numbers = np.array([1,2,3]).reshape(-1, 1)\n",
    "np.concatenate((volume, add_numbers), axis=0)"
   ]
  },
  {
   "cell_type": "code",
   "execution_count": null,
   "metadata": {},
   "outputs": [],
   "source": []
  },
  {
   "cell_type": "code",
   "execution_count": null,
   "metadata": {},
   "outputs": [],
   "source": []
  },
  {
   "cell_type": "code",
   "execution_count": null,
   "id": "ecd881e2",
   "metadata": {},
   "outputs": [],
   "source": []
  },
  {
   "cell_type": "code",
   "execution_count": null,
   "id": "6659f7ec",
   "metadata": {},
   "outputs": [],
   "source": []
  },
  {
   "cell_type": "code",
   "execution_count": null,
   "id": "a6e6aae0",
   "metadata": {},
   "outputs": [],
   "source": []
  },
  {
   "cell_type": "code",
   "execution_count": null,
   "id": "f5f3d259",
   "metadata": {},
   "outputs": [],
   "source": []
  },
  {
   "cell_type": "markdown",
   "id": "69185428",
   "metadata": {},
   "source": []
  }
 ],
 "metadata": {
  "kernelspec": {
   "display_name": "myenv",
   "language": "python",
   "name": "python3"
  },
  "language_info": {
   "codemirror_mode": {
    "name": "ipython",
    "version": 3
   },
   "file_extension": ".py",
   "mimetype": "text/x-python",
   "name": "python",
   "nbconvert_exporter": "python",
   "pygments_lexer": "ipython3",
   "version": "3.12.6"
  }
 },
 "nbformat": 4,
 "nbformat_minor": 5
}
