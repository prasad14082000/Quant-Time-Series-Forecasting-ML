{
 "cells": [
  {
   "cell_type": "markdown",
   "id": "51bf503f",
   "metadata": {},
   "source": [
    "***BASIC STATISTICS FOR ANALYSIS***"
   ]
  },
  {
   "cell_type": "code",
   "execution_count": 2,
   "id": "766385ed",
   "metadata": {},
   "outputs": [],
   "source": [
    "import numpy as np\n",
    "import pandas as pd\n",
    "import matplotlib.pyplot as plt\n",
    "import seaborn as sns\n",
    "from scipy import stats\n",
    "from scipy.stats import norm\n",
    "import math"
   ]
  },
  {
   "cell_type": "code",
   "execution_count": 3,
   "id": "8347b2f0",
   "metadata": {},
   "outputs": [],
   "source": [
    "import warnings\n",
    "warnings.filterwarnings('ignore')"
   ]
  },
  {
   "cell_type": "code",
   "execution_count": 4,
   "id": "6490fce7",
   "metadata": {},
   "outputs": [],
   "source": [
    "import yfinance as yf\n"
   ]
  },
  {
   "cell_type": "code",
   "execution_count": 5,
   "id": "281aa441",
   "metadata": {},
   "outputs": [
    {
     "name": "stdout",
     "output_type": "stream",
     "text": [
      "YF.download() has changed argument auto_adjust default to True\n"
     ]
    },
    {
     "name": "stderr",
     "output_type": "stream",
     "text": [
      "[*********************100%***********************]  1 of 1 completed\n",
      "[*********************100%***********************]  1 of 1 completed\n"
     ]
    }
   ],
   "source": [
    "symbol = 'AAPL'\n",
    "market = '^GSPC'\n",
    "start = '2014-01-01'\n",
    "end = '2024-01-01'\n",
    "\n",
    "#Read Data\n",
    "df = yf.download(symbol, start, end)\n",
    "dfm = yf.download(market, start, end)"
   ]
  },
  {
   "cell_type": "code",
   "execution_count": 6,
   "id": "ce4f615c",
   "metadata": {},
   "outputs": [
    {
     "data": {
      "text/html": [
       "<div>\n",
       "<style scoped>\n",
       "    .dataframe tbody tr th:only-of-type {\n",
       "        vertical-align: middle;\n",
       "    }\n",
       "\n",
       "    .dataframe tbody tr th {\n",
       "        vertical-align: top;\n",
       "    }\n",
       "\n",
       "    .dataframe thead th {\n",
       "        text-align: right;\n",
       "    }\n",
       "</style>\n",
       "<table border=\"1\" class=\"dataframe\">\n",
       "  <thead>\n",
       "    <tr style=\"text-align: right;\">\n",
       "      <th>Price</th>\n",
       "      <th>Close</th>\n",
       "      <th>High</th>\n",
       "      <th>Low</th>\n",
       "      <th>Open</th>\n",
       "      <th>Volume</th>\n",
       "    </tr>\n",
       "    <tr>\n",
       "      <th>Date</th>\n",
       "      <th></th>\n",
       "      <th></th>\n",
       "      <th></th>\n",
       "      <th></th>\n",
       "      <th></th>\n",
       "    </tr>\n",
       "  </thead>\n",
       "  <tbody>\n",
       "    <tr>\n",
       "      <th>2014-01-02</th>\n",
       "      <td>17.192825</td>\n",
       "      <td>17.314048</td>\n",
       "      <td>17.158324</td>\n",
       "      <td>17.272087</td>\n",
       "      <td>234684800</td>\n",
       "    </tr>\n",
       "    <tr>\n",
       "      <th>2014-01-03</th>\n",
       "      <td>16.815170</td>\n",
       "      <td>17.210543</td>\n",
       "      <td>16.798074</td>\n",
       "      <td>17.184434</td>\n",
       "      <td>392467600</td>\n",
       "    </tr>\n",
       "    <tr>\n",
       "      <th>2014-01-06</th>\n",
       "      <td>16.906862</td>\n",
       "      <td>16.996069</td>\n",
       "      <td>16.585777</td>\n",
       "      <td>16.705446</td>\n",
       "      <td>412610800</td>\n",
       "    </tr>\n",
       "    <tr>\n",
       "      <th>2014-01-07</th>\n",
       "      <td>16.785946</td>\n",
       "      <td>16.969955</td>\n",
       "      <td>16.720051</td>\n",
       "      <td>16.918980</td>\n",
       "      <td>317209200</td>\n",
       "    </tr>\n",
       "    <tr>\n",
       "      <th>2014-01-08</th>\n",
       "      <td>16.892250</td>\n",
       "      <td>16.957523</td>\n",
       "      <td>16.743986</td>\n",
       "      <td>16.747714</td>\n",
       "      <td>258529600</td>\n",
       "    </tr>\n",
       "  </tbody>\n",
       "</table>\n",
       "</div>"
      ],
      "text/plain": [
       "Price           Close       High        Low       Open     Volume\n",
       "Date                                                             \n",
       "2014-01-02  17.192825  17.314048  17.158324  17.272087  234684800\n",
       "2014-01-03  16.815170  17.210543  16.798074  17.184434  392467600\n",
       "2014-01-06  16.906862  16.996069  16.585777  16.705446  412610800\n",
       "2014-01-07  16.785946  16.969955  16.720051  16.918980  317209200\n",
       "2014-01-08  16.892250  16.957523  16.743986  16.747714  258529600"
      ]
     },
     "execution_count": 6,
     "metadata": {},
     "output_type": "execute_result"
    }
   ],
   "source": [
    "df.columns = df.columns.get_level_values(0)\n",
    "df.head()"
   ]
  },
  {
   "cell_type": "code",
   "execution_count": 7,
   "id": "e4a0dfeb",
   "metadata": {},
   "outputs": [
    {
     "data": {
      "text/html": [
       "<div>\n",
       "<style scoped>\n",
       "    .dataframe tbody tr th:only-of-type {\n",
       "        vertical-align: middle;\n",
       "    }\n",
       "\n",
       "    .dataframe tbody tr th {\n",
       "        vertical-align: top;\n",
       "    }\n",
       "\n",
       "    .dataframe thead th {\n",
       "        text-align: right;\n",
       "    }\n",
       "</style>\n",
       "<table border=\"1\" class=\"dataframe\">\n",
       "  <thead>\n",
       "    <tr style=\"text-align: right;\">\n",
       "      <th>Price</th>\n",
       "      <th>Close</th>\n",
       "      <th>High</th>\n",
       "      <th>Low</th>\n",
       "      <th>Open</th>\n",
       "      <th>Volume</th>\n",
       "    </tr>\n",
       "    <tr>\n",
       "      <th>Date</th>\n",
       "      <th></th>\n",
       "      <th></th>\n",
       "      <th></th>\n",
       "      <th></th>\n",
       "      <th></th>\n",
       "    </tr>\n",
       "  </thead>\n",
       "  <tbody>\n",
       "    <tr>\n",
       "      <th>2014-01-02</th>\n",
       "      <td>1831.979980</td>\n",
       "      <td>1845.859985</td>\n",
       "      <td>1827.739990</td>\n",
       "      <td>1845.859985</td>\n",
       "      <td>3080600000</td>\n",
       "    </tr>\n",
       "    <tr>\n",
       "      <th>2014-01-03</th>\n",
       "      <td>1831.369995</td>\n",
       "      <td>1838.239990</td>\n",
       "      <td>1829.130005</td>\n",
       "      <td>1833.209961</td>\n",
       "      <td>2774270000</td>\n",
       "    </tr>\n",
       "    <tr>\n",
       "      <th>2014-01-06</th>\n",
       "      <td>1826.770020</td>\n",
       "      <td>1837.160034</td>\n",
       "      <td>1823.729980</td>\n",
       "      <td>1832.310059</td>\n",
       "      <td>3294850000</td>\n",
       "    </tr>\n",
       "    <tr>\n",
       "      <th>2014-01-07</th>\n",
       "      <td>1837.880005</td>\n",
       "      <td>1840.099976</td>\n",
       "      <td>1828.709961</td>\n",
       "      <td>1828.709961</td>\n",
       "      <td>3511750000</td>\n",
       "    </tr>\n",
       "    <tr>\n",
       "      <th>2014-01-08</th>\n",
       "      <td>1837.489990</td>\n",
       "      <td>1840.020020</td>\n",
       "      <td>1831.400024</td>\n",
       "      <td>1837.900024</td>\n",
       "      <td>3652140000</td>\n",
       "    </tr>\n",
       "  </tbody>\n",
       "</table>\n",
       "</div>"
      ],
      "text/plain": [
       "Price             Close         High          Low         Open      Volume\n",
       "Date                                                                      \n",
       "2014-01-02  1831.979980  1845.859985  1827.739990  1845.859985  3080600000\n",
       "2014-01-03  1831.369995  1838.239990  1829.130005  1833.209961  2774270000\n",
       "2014-01-06  1826.770020  1837.160034  1823.729980  1832.310059  3294850000\n",
       "2014-01-07  1837.880005  1840.099976  1828.709961  1828.709961  3511750000\n",
       "2014-01-08  1837.489990  1840.020020  1831.400024  1837.900024  3652140000"
      ]
     },
     "execution_count": 7,
     "metadata": {},
     "output_type": "execute_result"
    }
   ],
   "source": [
    "dfm.columns = dfm.columns.get_level_values(0)\n",
    "dfm.head()"
   ]
  },
  {
   "cell_type": "code",
   "execution_count": 8,
   "id": "4918c095",
   "metadata": {},
   "outputs": [
    {
     "data": {
      "text/plain": [
       "(2516, 5)"
      ]
     },
     "execution_count": 8,
     "metadata": {},
     "output_type": "execute_result"
    }
   ],
   "source": [
    "df.shape"
   ]
  },
  {
   "cell_type": "code",
   "execution_count": 9,
   "id": "135dfa88",
   "metadata": {},
   "outputs": [
    {
     "name": "stdout",
     "output_type": "stream",
     "text": [
      "Beta:  1.1899099939489355\n",
      "Alpha:  0.0005905214127376028\n"
     ]
    }
   ],
   "source": [
    "new_df = pd.DataFrame({symbol : df['Close'], market : dfm['Close']}, index = df.index)\n",
    "\n",
    "#compute returns\n",
    "new_df[['stock_returns', 'market_returns']] = new_df[[symbol, market]] / new_df[[symbol, market]].shift(1) -1\n",
    "new_df = new_df.dropna()\n",
    "covmat = np.cov(new_df[\"stock_returns\"], new_df[\"market_returns\"])\n",
    "\n",
    "#calculate measures\n",
    "beta = covmat[0,1]/covmat[1,1]\n",
    "alpha = np.mean(new_df['stock_returns']) - beta*np.mean(new_df['market_returns'])\n",
    "\n",
    "print('Beta: ', beta)\n",
    "print('Alpha: ', alpha)"
   ]
  },
  {
   "cell_type": "code",
   "execution_count": 10,
   "id": "2d02c2ff",
   "metadata": {},
   "outputs": [],
   "source": [
    "close = df['Close']"
   ]
  },
  {
   "cell_type": "markdown",
   "id": "f33c8220",
   "metadata": {},
   "source": [
    "***MEAN THE AVERAGE***"
   ]
  },
  {
   "cell_type": "code",
   "execution_count": 11,
   "id": "b39d4f9f",
   "metadata": {},
   "outputs": [
    {
     "name": "stdout",
     "output_type": "stream",
     "text": [
      "Mean of Close:  75.43264201411382\n"
     ]
    }
   ],
   "source": [
    "mean = np.mean(close)\n",
    "print('Mean of Close: ', mean)"
   ]
  },
  {
   "cell_type": "markdown",
   "id": "18d3137a",
   "metadata": {},
   "source": [
    "***MEDIAN IS THE MIDDLEMOST VALUE***"
   ]
  },
  {
   "cell_type": "code",
   "execution_count": 12,
   "id": "ec16676e",
   "metadata": {},
   "outputs": [
    {
     "data": {
      "text/plain": [
       "np.float64(45.756683349609375)"
      ]
     },
     "execution_count": 12,
     "metadata": {},
     "output_type": "execute_result"
    }
   ],
   "source": [
    "median = np.median(close)\n",
    "median"
   ]
  },
  {
   "cell_type": "markdown",
   "id": "48b08921",
   "metadata": {},
   "source": [
    "***MODE: MOST FREQUENT VALUE VALUE IN THE SERIES***"
   ]
  },
  {
   "cell_type": "code",
   "execution_count": 13,
   "id": "0ef2e447",
   "metadata": {},
   "outputs": [
    {
     "name": "stdout",
     "output_type": "stream",
     "text": [
      "The modal value is 18.52147674560547 with a count of 2\n"
     ]
    }
   ],
   "source": [
    "mode = stats.mode(close, keepdims = True)   #keepdims ensures output is always array-like\n",
    "print(\"The modal value is {} with a count of {}\".format(mode.mode[0], mode.count[0]))"
   ]
  },
  {
   "cell_type": "markdown",
   "id": "e25eb146",
   "metadata": {},
   "source": [
    "***RANGE IS A MEASURE OF HOW SPREAD APART THE VALUES ARE***"
   ]
  },
  {
   "cell_type": "code",
   "execution_count": 14,
   "id": "e7217e0c",
   "metadata": {},
   "outputs": [
    {
     "data": {
      "text/plain": [
       "np.float64(181.13521480560303)"
      ]
     },
     "execution_count": 14,
     "metadata": {},
     "output_type": "execute_result"
    }
   ],
   "source": [
    "range_of_stock = np.ptp(close)\n",
    "range_of_stock"
   ]
  },
  {
   "cell_type": "markdown",
   "id": "f012b33d",
   "metadata": {},
   "source": [
    "***VARIANCE IS A MEASURE OF HOW VARIABLE THE DATA IS***"
   ]
  },
  {
   "cell_type": "code",
   "execution_count": 15,
   "id": "aee36740",
   "metadata": {},
   "outputs": [
    {
     "data": {
      "text/plain": [
       "np.float64(3170.5339321713614)"
      ]
     },
     "execution_count": 15,
     "metadata": {},
     "output_type": "execute_result"
    }
   ],
   "source": [
    "variance = np.var(close)\n",
    "variance"
   ]
  },
  {
   "cell_type": "markdown",
   "id": "b9260888",
   "metadata": {},
   "source": [
    "***STANDARD DEVIATION IS THE SQ ROOT OF THE VARIANCE AND IS A MEASURE HOW THE DATA IS SPREAD OUT***"
   ]
  },
  {
   "cell_type": "code",
   "execution_count": 16,
   "id": "f513627a",
   "metadata": {},
   "outputs": [
    {
     "data": {
      "text/plain": [
       "np.float64(56.3074944582989)"
      ]
     },
     "execution_count": 16,
     "metadata": {},
     "output_type": "execute_result"
    }
   ],
   "source": [
    "standard_deviation = np.std(close)\n",
    "standard_deviation"
   ]
  },
  {
   "cell_type": "markdown",
   "id": "4db18ed1",
   "metadata": {},
   "source": [
    "***STANDARD ERROR is the mean estimates the variability between sample means that you would obtain if you took multiple samples from the same population***"
   ]
  },
  {
   "cell_type": "code",
   "execution_count": 17,
   "id": "8a780c16",
   "metadata": {},
   "outputs": [
    {
     "data": {
      "text/plain": [
       "np.float64(1.1227865669038024)"
      ]
     },
     "execution_count": 17,
     "metadata": {},
     "output_type": "execute_result"
    }
   ],
   "source": [
    "standard_error = stats.sem(close)\n",
    "standard_error"
   ]
  },
  {
   "cell_type": "markdown",
   "id": "f3b0e9c2",
   "metadata": {},
   "source": [
    "***Z-score indicates how many standard deviations a data point is from the mean, and whether it lies above (positive Z) or below (negative Z) the mean***"
   ]
  },
  {
   "cell_type": "code",
   "execution_count": 18,
   "id": "1b743a79",
   "metadata": {},
   "outputs": [
    {
     "name": "stdout",
     "output_type": "stream",
     "text": [
      "[1.03431732 1.04102433 1.03939592 ... 2.06567844 2.07325966 2.0547475 ]\n"
     ]
    }
   ],
   "source": [
    "z = np.abs(stats.zscore(close))\n",
    "print(z)"
   ]
  },
  {
   "cell_type": "markdown",
   "id": "6b3da710",
   "metadata": {},
   "source": [
    "***CONTINGENCY TABLE SHOWS CORRELATIONS BETWEEN TWO VARIABLES***"
   ]
  },
  {
   "cell_type": "code",
   "execution_count": 19,
   "id": "2e3dec13",
   "metadata": {},
   "outputs": [
    {
     "name": "stdout",
     "output_type": "stream",
     "text": [
      "Low         15.340909   15.438821   15.498502   15.519640   15.605738   \\\n",
      "High                                                                     \n",
      "15.588950            1           0           0           0           0   \n",
      "15.743432            0           1           0           0           0   \n",
      "15.770476            0           0           1           0           0   \n",
      "15.781667            0           0           0           1           0   \n",
      "15.835442            0           0           0           0           0   \n",
      "...                ...         ...         ...         ...         ...   \n",
      "196.242892           0           0           0           0           0   \n",
      "196.264932           0           0           0           0           0   \n",
      "196.560561           0           0           0           0           0   \n",
      "196.957666           0           0           0           0           0   \n",
      "198.168786           0           0           0           0           0   \n",
      "\n",
      "Low         15.627186   15.735662   15.878636   15.988698   16.076564   ...  \\\n",
      "High                                                                    ...   \n",
      "15.588950            0           0           0           0           0  ...   \n",
      "15.743432            0           0           0           0           0  ...   \n",
      "15.770476            0           0           0           0           0  ...   \n",
      "15.781667            0           0           0           0           0  ...   \n",
      "15.835442            1           0           0           0           0  ...   \n",
      "...                ...         ...         ...         ...         ...  ...   \n",
      "196.242892           0           0           0           0           0  ...   \n",
      "196.264932           0           0           0           0           0  ...   \n",
      "196.560561           0           0           0           0           0  ...   \n",
      "196.957666           0           0           0           0           0  ...   \n",
      "198.168786           0           0           0           0           0  ...   \n",
      "\n",
      "Low         192.215484  192.262023  192.976801  193.324358  193.344183  \\\n",
      "High                                                                     \n",
      "15.588950            0           0           0           0           0   \n",
      "15.743432            0           0           0           0           0   \n",
      "15.770476            0           0           0           0           0   \n",
      "15.781667            0           0           0           0           0   \n",
      "15.835442            0           0           0           0           0   \n",
      "...                ...         ...         ...         ...         ...   \n",
      "196.242892           0           0           0           0           0   \n",
      "196.264932           0           0           0           0           0   \n",
      "196.560561           0           0           0           0           0   \n",
      "196.957666           0           0           0           0           0   \n",
      "198.168786           0           0           0           0           0   \n",
      "\n",
      "Low         193.413620  193.433468  194.465916  194.733949  195.567849  \n",
      "High                                                                    \n",
      "15.588950            0           0           0           0           0  \n",
      "15.743432            0           0           0           0           0  \n",
      "15.770476            0           0           0           0           0  \n",
      "15.781667            0           0           0           0           0  \n",
      "15.835442            0           0           0           0           0  \n",
      "...                ...         ...         ...         ...         ...  \n",
      "196.242892           1           0           0           0           0  \n",
      "196.264932           0           0           0           0           0  \n",
      "196.560561           0           1           0           0           0  \n",
      "196.957666           0           0           0           0           1  \n",
      "198.168786           0           0           0           1           0  \n",
      "\n",
      "[2516 rows x 2516 columns]\n"
     ]
    }
   ],
   "source": [
    "data_crosstab = pd.crosstab(df['High'], df['Low'], margins = False)\n",
    "print(data_crosstab)"
   ]
  },
  {
   "cell_type": "markdown",
   "id": "9df59db3",
   "metadata": {},
   "source": [
    "***SCATTER PLOT shows 2 variables that are plotted along show correlation or not***"
   ]
  },
  {
   "cell_type": "code",
   "execution_count": 20,
   "id": "7511935d",
   "metadata": {},
   "outputs": [
    {
     "data": {
      "text/plain": [
       "<matplotlib.collections.PathCollection at 0x1d00c909f10>"
      ]
     },
     "execution_count": 20,
     "metadata": {},
     "output_type": "execute_result"
    },
    {
     "data": {
      "image/png": "[encoded data removed]",
      "text/plain": [
       "<Figure size 640x480 with 1 Axes>"
      ]
     },
     "metadata": {},
     "output_type": "display_data"
    }
   ],
   "source": [
    "plt.scatter(df['Close'], df['Open'], alpha = 0.5)"
   ]
  },
  {
   "cell_type": "markdown",
   "id": "264da4bc",
   "metadata": {},
   "source": [
    "***REGRESSION is a measure of the relation between the mean value of one variable (e.g. output) and corresponding values of other variables***"
   ]
  },
  {
   "cell_type": "code",
   "execution_count": 24,
   "id": "5cb3074c",
   "metadata": {},
   "outputs": [
    {
     "data": {
      "text/plain": [
       "(2516, 5)"
      ]
     },
     "execution_count": 24,
     "metadata": {},
     "output_type": "execute_result"
    }
   ],
   "source": [
    "df.shape\n"
   ]
  },
  {
   "cell_type": "code",
   "execution_count": 25,
   "id": "1d163bee",
   "metadata": {},
   "outputs": [
    {
     "data": {
      "text/plain": [
       "0.9993997391703943"
      ]
     },
     "execution_count": 25,
     "metadata": {},
     "output_type": "execute_result"
    }
   ],
   "source": [
    "from sklearn.linear_model import LinearRegression\n",
    "\n",
    "x = np.array(df['Open']).reshape(2516, -2)\n",
    "y = np.array(df['Close'])\n",
    "\n",
    "LR = LinearRegression().fit(x, y)\n",
    "LR.score(x, y)"
   ]
  },
  {
   "cell_type": "code",
   "execution_count": 26,
   "id": "f22f9d97",
   "metadata": {},
   "outputs": [
    {
     "data": {
      "text/plain": [
       "array([1.00067419])"
      ]
     },
     "execution_count": 26,
     "metadata": {},
     "output_type": "execute_result"
    }
   ],
   "source": [
    "LR.coef_"
   ]
  },
  {
   "cell_type": "code",
   "execution_count": 27,
   "id": "db223b0e",
   "metadata": {},
   "outputs": [
    {
     "data": {
      "text/plain": [
       "np.float64(0.011873966293407534)"
      ]
     },
     "execution_count": 27,
     "metadata": {},
     "output_type": "execute_result"
    }
   ],
   "source": [
    "LR.intercept_"
   ]
  },
  {
   "cell_type": "code",
   "execution_count": 28,
   "id": "975c9dbf",
   "metadata": {},
   "outputs": [
    {
     "data": {
      "text/plain": [
       "array([ 17.29560566,  17.20789358,  16.72858276, ..., 191.23133419,\n",
       "       192.87043521, 192.63200986], shape=(2516,))"
      ]
     },
     "execution_count": 28,
     "metadata": {},
     "output_type": "execute_result"
    }
   ],
   "source": [
    "LR.predict(x)"
   ]
  },
  {
   "cell_type": "code",
   "execution_count": null,
   "id": "f8bd3d52",
   "metadata": {},
   "outputs": [],
   "source": []
  },
  {
   "cell_type": "code",
   "execution_count": null,
   "id": "1e7d3823",
   "metadata": {},
   "outputs": [],
   "source": []
  },
  {
   "cell_type": "code",
   "execution_count": null,
   "id": "3269301f",
   "metadata": {},
   "outputs": [],
   "source": []
  },
  {
   "cell_type": "code",
   "execution_count": null,
   "id": "952e00ee",
   "metadata": {},
   "outputs": [],
   "source": []
  },
  {
   "cell_type": "code",
   "execution_count": null,
   "id": "5f67894c",
   "metadata": {},
   "outputs": [],
   "source": []
  },
  {
   "cell_type": "code",
   "execution_count": null,
   "id": "a39c1797",
   "metadata": {},
   "outputs": [],
   "source": []
  },
  {
   "cell_type": "code",
   "execution_count": null,
   "id": "8489d2be",
   "metadata": {},
   "outputs": [],
   "source": []
  },
  {
   "cell_type": "code",
   "execution_count": null,
   "id": "bbef5c59",
   "metadata": {},
   "outputs": [],
   "source": []
  },
  {
   "cell_type": "code",
   "execution_count": null,
   "id": "a9852d83",
   "metadata": {},
   "outputs": [],
   "source": []
  },
  {
   "cell_type": "code",
   "execution_count": null,
   "metadata": {},
   "outputs": [],
   "source": []
  },
  {
   "cell_type": "code",
   "execution_count": null,
   "id": "9eb663cc",
   "metadata": {},
   "outputs": [],
   "source": []
  },
  {
   "cell_type": "code",
   "execution_count": null,
   "id": "aca95b98",
   "metadata": {},
   "outputs": [],
   "source": []
  },
  {
   "cell_type": "code",
   "execution_count": null,
   "id": "118fc561",
   "metadata": {},
   "outputs": [],
   "source": []
  },
  {
   "cell_type": "code",
   "execution_count": null,
   "id": "85aca9c1",
   "metadata": {},
   "outputs": [],
   "source": []
  },
  {
   "cell_type": "code",
   "execution_count": null,
   "id": "1c5dda6f",
   "metadata": {},
   "outputs": [],
   "source": []
  },
  {
   "cell_type": "code",
   "execution_count": null,
   "id": "9abdfb05",
   "metadata": {},
   "outputs": [],
   "source": []
  },
  {
   "cell_type": "code",
   "execution_count": null,
   "id": "efc7d747",
   "metadata": {},
   "outputs": [],
   "source": []
  },
  {
   "cell_type": "code",
   "execution_count": null,
   "id": "2f577472",
   "metadata": {},
   "outputs": [],
   "source": []
  },
  {
   "cell_type": "code",
   "execution_count": null,
   "id": "4fb0d742",
   "metadata": {},
   "outputs": [],
   "source": []
  },
  {
   "cell_type": "code",
   "execution_count": null,
   "id": "066b6cff",
   "metadata": {},
   "outputs": [],
   "source": []
  },
  {
   "cell_type": "code",
   "execution_count": null,
   "id": "f96cc74d",
   "metadata": {},
   "outputs": [],
   "source": []
  }
 ],
 "metadata": {
  "kernelspec": {
   "display_name": "myenv",
   "language": "python",
   "name": "python3"
  },
  "language_info": {
   "codemirror_mode": {
    "name": "ipython",
    "version": 3
   },
   "file_extension": ".py",
   "mimetype": "text/x-python",
   "name": "python",
   "nbconvert_exporter": "python",
   "pygments_lexer": "ipython3",
   "version": "3.12.6"
  }
 },
 "nbformat": 4,
 "nbformat_minor": 5
}
