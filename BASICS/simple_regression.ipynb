{
 "cells": [
  {
   "cell_type": "markdown",
   "id": "d669b8f3",
   "metadata": {},
   "source": [
    "***SIMPLE LINEAR REGRESSION FOR STOCKS USING SCIKIT-LEARN***"
   ]
  },
  {
   "cell_type": "code",
   "execution_count": null,
   "id": "dff3e7ae",
   "metadata": {},
   "outputs": [],
   "source": [
    "import pandas as pd\n",
    "import numpy as np\n",
    "import matplotlib.pyplot as plt\n",
    "import math\n",
    "import seaborn as sns\n",
    "%matplotlib inline\n",
    "\n",
    "import warnings \n",
    "warnings.filterwarnings('ignore')"
   ]
  },
  {
   "cell_type": "code",
   "execution_count": null,
   "id": "50799e97",
   "metadata": {},
   "outputs": [],
   "source": [
    "import yfinance as yf"
   ]
  },
  {
   "cell_type": "code",
   "execution_count": null,
   "id": "ba730b81",
   "metadata": {},
   "outputs": [],
   "source": [
    "stock = 'AAPL'\n",
    "start = '2004-01-01'\n",
    "end = '2024-01-01'\n",
    "\n",
    "data = yf.download(stock, start, end)\n",
    "data.columns = data.columns.get_level_values(0)\n",
    "data.head()"
   ]
  },
  {
   "cell_type": "code",
   "execution_count": null,
   "id": "8c27c3ec",
   "metadata": {},
   "outputs": [],
   "source": [
    "df = data.reset_index()\n",
    "df.head()"
   ]
  },
  {
   "cell_type": "code",
   "execution_count": null,
   "id": "3120559d",
   "metadata": {},
   "outputs": [],
   "source": [
    "df.columns"
   ]
  },
  {
   "cell_type": "code",
   "execution_count": null,
   "id": "24d49ad8",
   "metadata": {},
   "outputs": [],
   "source": [
    "x = df.drop(['Open','Date'], axis = 1)\n",
    "y = df[['Close']]"
   ]
  },
  {
   "cell_type": "code",
   "execution_count": null,
   "id": "e8ef0be4",
   "metadata": {},
   "outputs": [],
   "source": [
    "from sklearn.model_selection import train_test_split\n",
    "\n",
    "#split x and y \n",
    "x_train, x_test, y_train, y_test = train_test_split(x, y, test_size=0.25, random_state=0)"
   ]
  },
  {
   "cell_type": "code",
   "execution_count": null,
   "id": "2728b8f6",
   "metadata": {},
   "outputs": [],
   "source": [
    "from sklearn.linear_model import LinearRegression\n",
    "\n",
    "regression_model = LinearRegression()\n",
    "regression_model.fit(x_train, y_train)"
   ]
  },
  {
   "cell_type": "code",
   "execution_count": null,
   "id": "5f7d46e1",
   "metadata": {},
   "outputs": [],
   "source": [
    "intercept = regression_model.intercept_[0]\n",
    "print('The Intercet for our model is {}'.format(intercept))"
   ]
  },
  {
   "cell_type": "code",
   "execution_count": null,
   "id": "961547d9",
   "metadata": {},
   "outputs": [],
   "source": [
    "regression_model.score(x_test, y_test)"
   ]
  },
  {
   "cell_type": "code",
   "execution_count": null,
   "id": "525a224c",
   "metadata": {},
   "outputs": [],
   "source": [
    "from sklearn.metrics import mean_squared_error\n",
    "\n",
    "y_predict = regression_model.predict(x_test)\n",
    "regression_model_mse = mean_squared_error(y_predict, y_test)\n",
    "regression_model_mse"
   ]
  },
  {
   "cell_type": "code",
   "execution_count": null,
   "id": "dd858dbf",
   "metadata": {},
   "outputs": [],
   "source": [
    "math.sqrt(regression_model_mse)"
   ]
  },
  {
   "cell_type": "code",
   "execution_count": null,
   "id": "b413dd68",
   "metadata": {},
   "outputs": [],
   "source": [
    "x.info"
   ]
  },
  {
   "cell_type": "code",
   "execution_count": null,
   "id": "cab77ed0",
   "metadata": {},
   "outputs": [],
   "source": [
    "#input the latest open, high, low, close, volume\n",
    "#predict the next day price\n",
    "\n",
    "regression_model.predict([[191.130325, 192.986726, 190.336138, 42628800]])"
   ]
  },
  {
   "cell_type": "code",
   "execution_count": null,
   "id": "4a82424f",
   "metadata": {},
   "outputs": [],
   "source": []
  },
  {
   "cell_type": "code",
   "execution_count": null,
   "id": "35331113",
   "metadata": {},
   "outputs": [],
   "source": []
  },
  {
   "cell_type": "code",
   "execution_count": null,
   "id": "80a00ecf",
   "metadata": {},
   "outputs": [],
   "source": []
  },
  {
   "cell_type": "code",
   "execution_count": null,
   "id": "6feb3832",
   "metadata": {},
   "outputs": [],
   "source": []
  }
 ],
 "metadata": {
  "kernelspec": {
   "display_name": "myenv",
   "language": "python",
   "name": "python3"
  },
  "language_info": {
   "codemirror_mode": {
    "name": "ipython",
    "version": 3
   },
   "file_extension": ".py",
   "mimetype": "text/x-python",
   "name": "python",
   "nbconvert_exporter": "python",
   "pygments_lexer": "ipython3",
   "version": "3.12.6"
  }
 },
 "nbformat": 4,
 "nbformat_minor": 5
}
