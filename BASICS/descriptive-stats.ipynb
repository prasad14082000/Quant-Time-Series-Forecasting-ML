{
 "cells": [
  {
   "cell_type": "markdown",
   "id": "a0b70fb6",
   "metadata": {},
   "source": [
    "***DESCRIPTIVE STATISTICS***"
   ]
  },
  {
   "cell_type": "code",
   "execution_count": 11,
   "id": "778a3b6c",
   "metadata": {},
   "outputs": [],
   "source": [
    "import pandas as pd\n",
    "import numpy as np\n",
    "import matplotlib.pyplot as plt\n",
    "import math\n",
    "import seaborn as sns\n",
    "from scipy import stats\n",
    "\n",
    "import warnings \n",
    "warnings.filterwarnings('ignore')\n",
    "\n",
    "import yfinance as yf"
   ]
  },
  {
   "cell_type": "code",
   "execution_count": 59,
   "id": "4062afb6",
   "metadata": {},
   "outputs": [
    {
     "name": "stderr",
     "output_type": "stream",
     "text": [
      "[*********************100%***********************]  1 of 1 completed\n"
     ]
    },
    {
     "data": {
      "text/html": [
       "<div>\n",
       "<style scoped>\n",
       "    .dataframe tbody tr th:only-of-type {\n",
       "        vertical-align: middle;\n",
       "    }\n",
       "\n",
       "    .dataframe tbody tr th {\n",
       "        vertical-align: top;\n",
       "    }\n",
       "\n",
       "    .dataframe thead th {\n",
       "        text-align: right;\n",
       "    }\n",
       "</style>\n",
       "<table border=\"1\" class=\"dataframe\">\n",
       "  <thead>\n",
       "    <tr style=\"text-align: right;\">\n",
       "      <th>Price</th>\n",
       "      <th>Close</th>\n",
       "      <th>High</th>\n",
       "      <th>Low</th>\n",
       "      <th>Open</th>\n",
       "      <th>Volume</th>\n",
       "    </tr>\n",
       "    <tr>\n",
       "      <th>Date</th>\n",
       "      <th></th>\n",
       "      <th></th>\n",
       "      <th></th>\n",
       "      <th></th>\n",
       "      <th></th>\n",
       "    </tr>\n",
       "  </thead>\n",
       "  <tbody>\n",
       "    <tr>\n",
       "      <th>2015-01-02</th>\n",
       "      <td>24.288582</td>\n",
       "      <td>24.757336</td>\n",
       "      <td>23.848707</td>\n",
       "      <td>24.746228</td>\n",
       "      <td>212818400</td>\n",
       "    </tr>\n",
       "    <tr>\n",
       "      <th>2015-01-05</th>\n",
       "      <td>23.604340</td>\n",
       "      <td>24.137520</td>\n",
       "      <td>23.417727</td>\n",
       "      <td>24.057543</td>\n",
       "      <td>257142000</td>\n",
       "    </tr>\n",
       "    <tr>\n",
       "      <th>2015-01-06</th>\n",
       "      <td>23.606556</td>\n",
       "      <td>23.866481</td>\n",
       "      <td>23.244437</td>\n",
       "      <td>23.668760</td>\n",
       "      <td>263188400</td>\n",
       "    </tr>\n",
       "    <tr>\n",
       "      <th>2015-01-07</th>\n",
       "      <td>23.937571</td>\n",
       "      <td>24.037541</td>\n",
       "      <td>23.704304</td>\n",
       "      <td>23.815383</td>\n",
       "      <td>160423600</td>\n",
       "    </tr>\n",
       "    <tr>\n",
       "      <th>2015-01-08</th>\n",
       "      <td>24.857304</td>\n",
       "      <td>24.915065</td>\n",
       "      <td>24.148618</td>\n",
       "      <td>24.266363</td>\n",
       "      <td>237458000</td>\n",
       "    </tr>\n",
       "  </tbody>\n",
       "</table>\n",
       "</div>"
      ],
      "text/plain": [
       "Price           Close       High        Low       Open     Volume\n",
       "Date                                                             \n",
       "2015-01-02  24.288582  24.757336  23.848707  24.746228  212818400\n",
       "2015-01-05  23.604340  24.137520  23.417727  24.057543  257142000\n",
       "2015-01-06  23.606556  23.866481  23.244437  23.668760  263188400\n",
       "2015-01-07  23.937571  24.037541  23.704304  23.815383  160423600\n",
       "2015-01-08  24.857304  24.915065  24.148618  24.266363  237458000"
      ]
     },
     "execution_count": 59,
     "metadata": {},
     "output_type": "execute_result"
    }
   ],
   "source": [
    "stock = 'AAPL'\n",
    "start = '2015-01-01'\n",
    "end = '2025-01-01'\n",
    "\n",
    "dataset = yf.download(stock, start, end)\n",
    "dataset.columns = dataset.columns.get_level_values(0)\n",
    "dataset.head()"
   ]
  },
  {
   "cell_type": "code",
   "execution_count": 60,
   "id": "5da52992",
   "metadata": {},
   "outputs": [
    {
     "data": {
      "text/html": [
       "<div>\n",
       "<style scoped>\n",
       "    .dataframe tbody tr th:only-of-type {\n",
       "        vertical-align: middle;\n",
       "    }\n",
       "\n",
       "    .dataframe tbody tr th {\n",
       "        vertical-align: top;\n",
       "    }\n",
       "\n",
       "    .dataframe thead th {\n",
       "        text-align: right;\n",
       "    }\n",
       "</style>\n",
       "<table border=\"1\" class=\"dataframe\">\n",
       "  <thead>\n",
       "    <tr style=\"text-align: right;\">\n",
       "      <th>Price</th>\n",
       "      <th>Close</th>\n",
       "      <th>High</th>\n",
       "      <th>Low</th>\n",
       "      <th>Open</th>\n",
       "      <th>Volume</th>\n",
       "    </tr>\n",
       "    <tr>\n",
       "      <th>Date</th>\n",
       "      <th></th>\n",
       "      <th></th>\n",
       "      <th></th>\n",
       "      <th></th>\n",
       "      <th></th>\n",
       "    </tr>\n",
       "  </thead>\n",
       "  <tbody>\n",
       "    <tr>\n",
       "      <th>2024-12-24</th>\n",
       "      <td>257.578674</td>\n",
       "      <td>257.588630</td>\n",
       "      <td>254.675658</td>\n",
       "      <td>254.875189</td>\n",
       "      <td>23234700</td>\n",
       "    </tr>\n",
       "    <tr>\n",
       "      <th>2024-12-26</th>\n",
       "      <td>258.396667</td>\n",
       "      <td>259.474086</td>\n",
       "      <td>257.010028</td>\n",
       "      <td>257.568678</td>\n",
       "      <td>27237100</td>\n",
       "    </tr>\n",
       "    <tr>\n",
       "      <th>2024-12-27</th>\n",
       "      <td>254.974930</td>\n",
       "      <td>258.077462</td>\n",
       "      <td>252.451019</td>\n",
       "      <td>257.209530</td>\n",
       "      <td>42355300</td>\n",
       "    </tr>\n",
       "    <tr>\n",
       "      <th>2024-12-30</th>\n",
       "      <td>251.593094</td>\n",
       "      <td>252.889969</td>\n",
       "      <td>250.146586</td>\n",
       "      <td>251.623020</td>\n",
       "      <td>35557500</td>\n",
       "    </tr>\n",
       "    <tr>\n",
       "      <th>2024-12-31</th>\n",
       "      <td>249.817383</td>\n",
       "      <td>252.670501</td>\n",
       "      <td>248.829760</td>\n",
       "      <td>251.832526</td>\n",
       "      <td>39480700</td>\n",
       "    </tr>\n",
       "  </tbody>\n",
       "</table>\n",
       "</div>"
      ],
      "text/plain": [
       "Price            Close        High         Low        Open    Volume\n",
       "Date                                                                \n",
       "2024-12-24  257.578674  257.588630  254.675658  254.875189  23234700\n",
       "2024-12-26  258.396667  259.474086  257.010028  257.568678  27237100\n",
       "2024-12-27  254.974930  258.077462  252.451019  257.209530  42355300\n",
       "2024-12-30  251.593094  252.889969  250.146586  251.623020  35557500\n",
       "2024-12-31  249.817383  252.670501  248.829760  251.832526  39480700"
      ]
     },
     "execution_count": 60,
     "metadata": {},
     "output_type": "execute_result"
    }
   ],
   "source": [
    "dataset.tail()"
   ]
  },
  {
   "cell_type": "code",
   "execution_count": 61,
   "id": "02edcf53",
   "metadata": {},
   "outputs": [
    {
     "data": {
      "text/plain": [
       "Date\n",
       "2024-12-24    257.58\n",
       "2024-12-26    258.40\n",
       "2024-12-27    254.97\n",
       "2024-12-30    251.59\n",
       "2024-12-31    249.82\n",
       "Name: Close, dtype: float64"
      ]
     },
     "execution_count": 61,
     "metadata": {},
     "output_type": "execute_result"
    }
   ],
   "source": [
    "sample = round(dataset['Close'], 2)\n",
    "sample.tail()"
   ]
  },
  {
   "cell_type": "code",
   "execution_count": 62,
   "id": "146ba564",
   "metadata": {},
   "outputs": [
    {
     "name": "stdout",
     "output_type": "stream",
     "text": [
      "Sample Statistics:\n",
      "Sample Mean:  94.05671303656597\n",
      "Sample Variance:  4300.614402750224\n",
      "Sample Standarad Deviation:  65.5790698527375\n",
      "Sample Median:  64.525\n",
      "Sample Mode:  21.35\n"
     ]
    }
   ],
   "source": [
    "print('Sample Statistics:')\n",
    "print('Sample Mean: ', sample.mean())\n",
    "print('Sample Variance: ', sample.var())\n",
    "print('Sample Standarad Deviation: ', sample.std())\n",
    "print('Sample Median: ', np.median(sample))\n",
    "print('Sample Mode: ', stats.mode(sample, keepdims=True).mode[0] )\n"
   ]
  },
  {
   "cell_type": "code",
   "execution_count": 63,
   "id": "cede8e4c",
   "metadata": {},
   "outputs": [
    {
     "name": "stdout",
     "output_type": "stream",
     "text": [
      "Sample percentile of 50th:  64.525\n"
     ]
    }
   ],
   "source": [
    "#percentiles\n",
    "\n",
    "p = np.percentile(sample, 50)\n",
    "print('Sample percentile of 50th: ', p)"
   ]
  },
  {
   "cell_type": "code",
   "execution_count": 64,
   "id": "2b126abc",
   "metadata": {},
   "outputs": [
    {
     "data": {
      "text/plain": [
       "0.25     35.3000\n",
       "0.50     64.5250\n",
       "0.75    150.5525\n",
       "Name: Close, dtype: float64"
      ]
     },
     "execution_count": 64,
     "metadata": {},
     "output_type": "execute_result"
    }
   ],
   "source": [
    "#Quartiles\n",
    "\n",
    "sample.quantile([0.25, 0.5, 0.75])"
   ]
  },
  {
   "cell_type": "code",
   "execution_count": 65,
   "id": "5b1c0d4b",
   "metadata": {},
   "outputs": [
    {
     "name": "stdout",
     "output_type": "stream",
     "text": [
      "Range:  237.74999999999997\n"
     ]
    }
   ],
   "source": [
    "#range\n",
    "\n",
    "print('Range: ', sample.max() - sample.min())"
   ]
  },
  {
   "cell_type": "code",
   "execution_count": 66,
   "id": "58114292",
   "metadata": {},
   "outputs": [
    {
     "name": "stdout",
     "output_type": "stream",
     "text": [
      "Interquartile range (IQR):  115.25250000000001\n"
     ]
    }
   ],
   "source": [
    "#interquartile range\n",
    "\n",
    "from scipy.stats import iqr\n",
    "\n",
    "print('Interquartile range (IQR): ', iqr(sample))"
   ]
  },
  {
   "cell_type": "code",
   "execution_count": 67,
   "id": "5c9e565e",
   "metadata": {},
   "outputs": [
    {
     "name": "stdout",
     "output_type": "stream",
     "text": [
      "Sample Harmonic mean:  53.31305779330742\n"
     ]
    }
   ],
   "source": [
    "#harmonic mean\n",
    "\n",
    "print('Sample Harmonic mean: ', stats.hmean(sample))"
   ]
  },
  {
   "cell_type": "code",
   "execution_count": 68,
   "id": "44e2a0ff",
   "metadata": {},
   "outputs": [
    {
     "data": {
      "image/png": "[encoded data removed]",
      "text/plain": [
       "<Figure size 640x480 with 1 Axes>"
      ]
     },
     "metadata": {},
     "output_type": "display_data"
    }
   ],
   "source": [
    "plt.boxplot(sample)\n",
    "plt.show()"
   ]
  },
  {
   "cell_type": "code",
   "execution_count": 69,
   "id": "df63c65d",
   "metadata": {},
   "outputs": [
    {
     "name": "stdout",
     "output_type": "stream",
     "text": [
      "Identified outliers: 0\n",
      "Non-outlier observations: 2516\n"
     ]
    }
   ],
   "source": [
    "#calculate summary statistics\n",
    "data_mean, data_std = sample.mean(), sample.std()\n",
    "\n",
    "#identify outliers\n",
    "cutoff = data_std * 3\n",
    "lower, upper = data_mean - cutoff, data_mean + cutoff\n",
    "\n",
    "#identify outliers\n",
    "outliers = [x for x in sample if x < lower or x > upper]\n",
    "print('Identified outliers: %d' % len(outliers))\n",
    "\n",
    "#remove outliers\n",
    "outliers_removed = [x for x in sample if x >= lower and x <= upper]\n",
    "print('Non-outlier observations: %d' % len(outliers_removed))"
   ]
  },
  {
   "cell_type": "code",
   "execution_count": 70,
   "id": "adf8774f",
   "metadata": {},
   "outputs": [
    {
     "name": "stdout",
     "output_type": "stream",
     "text": [
      "Percentiles: 25th=35.300, 75th=150.553, IQR=115.253\n",
      "Identified outliers: 0\n",
      "Non-outlier observations: 2516\n"
     ]
    }
   ],
   "source": [
    "q25, q75 = np.percentile(sample, 25), np.percentile(sample, 75)\n",
    "iqr = q75 - q25\n",
    "print('Percentiles: 25th=%.3f, 75th=%.3f, IQR=%.3f' % (q25, q75, iqr))\n",
    "# calculate the outlier cutoff\n",
    "cut_off = iqr * 1.5\n",
    "lower, upper = q25 - cut_off, q75 + cut_off\n",
    "# identify outliers\n",
    "outliers = [x for x in sample if x < lower or x > upper]\n",
    "print('Identified outliers: %d' % len(outliers))\n",
    "# remove outliers\n",
    "outliers_removed = [x for x in sample if x >= lower and x <= upper]\n",
    "print('Non-outlier observations: %d' % len(outliers_removed))"
   ]
  },
  {
   "cell_type": "code",
   "execution_count": 71,
   "id": "8cf37dbd",
   "metadata": {},
   "outputs": [
    {
     "name": "stdout",
     "output_type": "stream",
     "text": [
      "Skewness:  0.5030496614050551\n"
     ]
    }
   ],
   "source": [
    "print('Skewness: ', sample.skew())"
   ]
  },
  {
   "cell_type": "code",
   "execution_count": 72,
   "id": "c7c896df",
   "metadata": {},
   "outputs": [
    {
     "name": "stdout",
     "output_type": "stream",
     "text": [
      "Five_number Summary: \n",
      "count    2516.000000\n",
      "mean       94.056713\n",
      "std        65.579070\n",
      "min        20.650000\n",
      "25%        35.300000\n",
      "50%        64.525000\n",
      "75%       150.552500\n",
      "max       258.400000\n",
      "Name: Close, dtype: float64\n"
     ]
    }
   ],
   "source": [
    "print('Five_number Summary: ')\n",
    "print(sample.describe())"
   ]
  },
  {
   "cell_type": "code",
   "execution_count": 73,
   "id": "2cfe544e",
   "metadata": {},
   "outputs": [
    {
     "name": "stdout",
     "output_type": "stream",
     "text": [
      "Z-Score:  [-1.06406788 -1.07459162 -1.0744391  ...  2.4542171   2.40266602\n",
      "  2.37567033]\n"
     ]
    }
   ],
   "source": [
    "print(\"Z-Score: \", stats.zscore(sample))"
   ]
  },
  {
   "cell_type": "code",
   "execution_count": 74,
   "id": "c275f2c0",
   "metadata": {},
   "outputs": [
    {
     "name": "stdout",
     "output_type": "stream",
     "text": [
      "Coefficient of Variation:  0.6970904471801905\n"
     ]
    }
   ],
   "source": [
    "print('Coefficient of Variation: ', stats.variation(sample))"
   ]
  },
  {
   "cell_type": "code",
   "execution_count": 75,
   "id": "3c496276",
   "metadata": {},
   "outputs": [
    {
     "data": {
      "text/plain": [
       "{'whiskers': [<matplotlib.lines.Line2D at 0x1bc2bf90b30>,\n",
       "  <matplotlib.lines.Line2D at 0x1bc2bf91f40>],\n",
       " 'caps': [<matplotlib.lines.Line2D at 0x1bc2bf92240>,\n",
       "  <matplotlib.lines.Line2D at 0x1bc2bf92510>],\n",
       " 'boxes': [<matplotlib.lines.Line2D at 0x1bc2bf91bb0>],\n",
       " 'medians': [<matplotlib.lines.Line2D at 0x1bc2bf92810>],\n",
       " 'fliers': [<matplotlib.lines.Line2D at 0x1bc2bf92a80>],\n",
       " 'means': []}"
      ]
     },
     "execution_count": 75,
     "metadata": {},
     "output_type": "execute_result"
    },
    {
     "data": {
      "image/png": "[encoded data removed]",
      "text/plain": [
       "<Figure size 640x480 with 1 Axes>"
      ]
     },
     "metadata": {},
     "output_type": "display_data"
    }
   ],
   "source": [
    "fig1, ax1 = plt.subplots()\n",
    "ax1.set_title('Sample Box Plot')\n",
    "ax1.boxplot(sample)"
   ]
  },
  {
   "cell_type": "code",
   "execution_count": 76,
   "id": "30cbcbb9",
   "metadata": {},
   "outputs": [
    {
     "data": {
      "text/plain": [
       "{'whiskers': [<matplotlib.lines.Line2D at 0x1bc2f2a07d0>,\n",
       "  <matplotlib.lines.Line2D at 0x1bc2f2a0a70>],\n",
       " 'caps': [<matplotlib.lines.Line2D at 0x1bc2f2a0d70>,\n",
       "  <matplotlib.lines.Line2D at 0x1bc2f2a1040>],\n",
       " 'boxes': [<matplotlib.lines.Line2D at 0x1bc2f2a0530>],\n",
       " 'medians': [<matplotlib.lines.Line2D at 0x1bc2f2a11f0>],\n",
       " 'fliers': [<matplotlib.lines.Line2D at 0x1bc2f2a14f0>],\n",
       " 'means': []}"
      ]
     },
     "execution_count": 76,
     "metadata": {},
     "output_type": "execute_result"
    },
    {
     "data": {
      "image/png": "[encoded data removed]",
      "text/plain": [
       "<Figure size 640x480 with 1 Axes>"
      ]
     },
     "metadata": {},
     "output_type": "display_data"
    }
   ],
   "source": [
    "red_square = dict(markerfacecolor = 'r', marker  = 's')\n",
    "fig2, ax2 = plt.subplots()\n",
    "ax2.set_title('Horizontal Boxes')\n",
    "ax2.boxplot(sample, vert = False, flierprops = red_square)"
   ]
  },
  {
   "cell_type": "code",
   "execution_count": 77,
   "id": "fc92b6d0",
   "metadata": {},
   "outputs": [
    {
     "name": "stdout",
     "output_type": "stream",
     "text": [
      "Empirical Rule: \n",
      "[24.29, 23.6, 23.61, 23.94, 24.86, 24.88, 24.27, 24.49, 24.39, 23.73, 23.55, 24.15, 24.34, 24.97, 25.1, 25.13, 24.25, 25.62, 26.41, 26.03, 26.35, 26.36, 26.56, 26.75, 26.53, 26.7, 27.21, 27.85, 28.21, 28.34, 28.51, 28.71, 28.65, 28.88, 29.66, 29.48, 28.72, 29.09, 28.65, 28.79, 28.85, 28.67, 28.19, 28.24, 28.36, 27.77, 27.26, 27.76, 27.56, 27.87, 28.33, 28.65, 28.44, 28.08, 28.37, 28.26, 27.52, 27.71, 27.49, 28.18, 27.75, 27.71, 27.95, 28.4, 28.1, 28.01, 28.23, 28.35, 28.29, 28.17, 28.28, 28.14, 27.82, 28.46, 28.31, 28.69, 28.92, 29.06, 29.59, 29.12, 28.69, 27.91, 28.76, 28.7, 28.06, 27.88, 28.05, 28.58, 28.29, 28.19, 28.22, 28.88, 28.84, 29.16, 29.13, 29.13, 29.43, 29.68, 29.03, 29.57, 29.51, 29.18, 29.24, 29.11, 29.14, 28.97, 28.81, 28.62, 28.54, 28.86, 28.8, 28.48, 28.43, 28.58, 28.51, 28.64, 28.35, 28.58, 28.45, 28.69, 28.56, 28.39, 27.89, 28.09, 28.35, 28.32, 28.22, 28.15, 27.45, 26.89, 27.61, 28.14, 28.13, 28.4, 28.78, 29.03, 29.58, 29.28, 28.05, 28.03, 27.88, 27.5, 27.63, 27.55, 27.41, 27.17, 26.53, 25.68, 25.85, 25.9, 25.99, 26.93, 25.53, 25.93, 25.91, 26.09, 26.36, 26.21, 25.88, 25.34, 23.79, 23.2, 23.34, 24.68, 25.4, 25.49, 25.37, 24.23, 25.27, 24.83, 24.58, 25.27, 24.78, 25.33, 25.7, 25.94, 26.16, 26.19, 25.63, 25.52, 25.92, 25.51, 25.72, 25.87, 25.81, 25.3, 24.54, 24.82, 24.65, 24.83, 24.92, 25.04, 24.92, 24.64, 25.22, 25.11, 25.15, 24.8, 25.17, 24.98, 25.14, 25.6, 25.59, 25.99, 26.79, 25.94, 25.77, 26.83, 27.12, 26.89, 27.26, 27.58, 27.45, 27.32, 27.35, 27.24, 26.38, 26.23, 26.15, 25.38, 25.8, 25.69, 26.5, 26.84, 26.96, 26.6, 26.86, 26.67, 26.62, 26.73, 26.51, 26.27, 26.03, 26.89, 26.72, 26.71, 26.12, 26.25, 25.57, 25.41, 24.96, 25.16, 24.62, 23.96, 24.25, 24.23, 24.54, 24.41, 24.14, 24.57, 24.25, 23.78, 23.8, 23.21, 22.75, 21.79, 21.91, 22.26, 22.59, 22.0, 22.49, 21.95, 21.84, 21.87, 21.76, 22.92, 22.47, 22.59, 21.11, 21.26, 21.99, 21.79, 21.35, 21.77, 21.94, 21.36, 21.58, 21.58, 21.42, 21.29, 21.35, 21.95, 22.29, 21.87, 21.82, 22.01, 21.51, 21.83, 21.98, 22.02, 21.97, 22.84, 22.89, 23.06, 23.4, 23.14, 22.95, 22.97, 22.98, 23.23, 23.29, 23.76, 24.07, 24.03, 24.06, 24.06, 24.24, 24.11, 24.01, 23.9, 24.46, 24.89, 24.76, 24.99, 25.24, 24.95, 25.21, 24.66, 24.68, 24.77, 25.09, 25.45, 25.47, 24.95, 24.42, 24.29, 24.34, 24.07, 24.01, 23.87, 23.71, 22.22, 21.54, 21.29, 21.27, 21.62, 21.4, 21.31, 21.19, 21.21, 21.35, 21.14, 20.65, 20.69, 21.46, 21.37, 21.61, 21.53, 21.76, 22.04, 22.38, 22.77, 22.95, 22.94, 22.82, 22.5, 22.33, 22.38, 22.54, 22.63, 22.61, 22.78, 22.59, 22.25, 22.27, 22.2, 22.3, 21.79, 21.74, 21.92, 21.84, 21.96, 21.35, 21.04, 21.39, 21.58, 21.85, 21.92, 21.71, 21.83, 21.93, 22.1, 22.17, 22.27, 22.14, 22.58, 22.58, 22.82, 22.83, 22.85, 22.73, 22.55, 22.25, 22.09, 23.53, 23.85, 23.82, 24.24, 23.88, 24.18, 24.33, 24.7, 24.9, 25.0, 24.82, 24.8, 24.86, 25.16, 25.13, 25.1, 25.07, 25.13, 24.93, 25.01, 24.82, 24.72, 24.57, 24.55, 24.36, 24.38, 24.53, 24.76, 24.75, 24.9, 24.25, 23.7, 24.23, 24.81, 25.68, 26.56, 26.41, 26.1, 26.1, 26.09, 26.34, 25.9, 25.94, 25.99, 26.18, 25.78, 25.98, 25.86, 25.97, 25.98, 26.17, 26.21, 26.67, 26.72, 26.96, 26.88, 27.03, 27.01, 26.99, 26.91, 26.9, 26.79, 27.03, 27.17, 26.56, 26.31, 26.13, 26.09, 25.62, 25.64, 25.37, 25.14, 25.5, 25.65, 25.61, 24.9, 25.04, 24.42, 24.74, 25.4, 25.4, 25.42, 25.81, 25.82, 25.69, 25.82, 25.77, 25.74, 25.53, 25.29, 25.38, 25.2, 25.4, 25.64, 25.9, 26.32, 26.17, 26.61, 26.61, 26.75, 26.79, 26.94, 27.01, 27.04, 26.86, 26.91, 27.08, 26.97, 26.96, 26.75, 26.83, 26.8, 26.93, 27.23, 27.48, 27.51, 27.66, 27.54, 27.49, 27.72, 27.71, 27.67, 27.72, 27.73, 27.71, 28.15, 28.16, 28.17, 28.09, 28.03, 29.74, 29.69, 29.81, 30.09, 30.38, 30.5, 30.72, 30.65, 30.92, 31.32, 31.43, 31.4, 31.48, 31.71, 31.81, 31.67, 31.7, 31.76, 31.78, 32.43, 32.23, 32.43, 32.32, 32.36, 32.24, 32.17, 32.28, 32.29, 32.24, 32.58, 32.64, 32.47, 32.81, 32.44, 32.81, 32.69, 32.62, 32.68, 33.36, 33.43, 33.39, 33.33, 33.33, 33.58, 33.41, 33.33, 33.25, 33.21, 32.85, 32.89, 32.72, 32.9, 32.75, 32.63, 33.04, 33.0, 33.32, 33.53, 33.33, 33.36, 33.32, 34.0, 34.22, 34.11, 33.99, 34.55, 35.49, 35.72, 35.55, 35.86, 36.36, 36.27, 36.21, 35.0, 35.53, 35.65, 35.87, 35.82, 35.72, 35.84, 35.78, 35.79, 35.58, 35.68, 36.21, 35.85, 35.98, 36.19, 36.1, 34.7, 33.87, 34.15, 33.81, 33.61, 33.14, 34.09, 33.78, 33.98, 33.92, 34.07, 33.97, 33.48, 33.97, 33.47, 33.55, 33.43, 33.56, 33.25, 33.58, 33.79, 33.9, 33.95, 34.42, 34.72, 34.84, 34.96, 35.18, 35.02, 35.0, 35.43, 35.58, 35.75, 35.07, 34.82, 34.64, 34.95, 36.6, 36.24, 36.43, 36.99, 37.29, 37.52, 36.32, 36.83, 37.38, 37.79, 37.64, 36.91, 36.83, 36.76, 37.36, 37.41, 37.24, 37.38, 37.76, 38.1, 38.2, 38.35, 38.36, 37.9, 37.86, 37.71, 37.09, 37.77, 37.62, 37.33, 37.01, 37.39, 37.1, 37.12, 36.5, 35.87, 35.52, 35.21, 35.81, 36.07, 35.84, 36.04, 35.97, 36.12, 35.89, 36.34, 36.32, 36.44, 36.46, 36.61, 36.48, 36.71, 37.39, 37.52, 37.36, 36.48, 36.54, 36.52, 36.74, 36.58, 36.81, 38.13, 38.99, 39.53, 39.03, 39.31, 40.34, 40.75, 40.88, 41.21, 41.13, 40.99, 40.83, 40.21, 39.68, 40.15, 39.93, 39.89, 40.63, 41.06, 41.06, 40.86, 40.62, 39.77, 40.33, 40.14, 39.85, 39.81, 39.66, 39.74, 39.75, 40.52, 40.3, 40.43, 40.42, 40.83, 41.4, 40.96, 40.92, 41.07, 41.07, 40.03, 40.04, 40.15, 39.72, 40.43, 40.42, 40.61, 41.07, 40.92, 40.91, 40.9, 41.14, 41.56, 41.35, 42.03, 42.07, 41.88, 41.54, 41.55, 40.89, 40.16, 40.25, 39.42, 39.19, 39.29, 39.38, 37.67, 36.73, 38.26, 37.44, 36.41, 36.86, 38.34, 38.73, 39.44, 40.76, 40.63, 40.5, 40.31, 40.65, 41.36, 42.17, 42.04, 41.97, 41.24, 41.52, 41.67, 41.63, 41.24, 41.69, 42.41, 42.82, 42.41, 42.05, 42.1, 41.95, 41.31, 41.29, 40.36, 39.79, 38.87, 40.71, 39.67, 39.23, 39.54, 39.28, 39.68, 40.44, 40.72, 39.68, 40.07, 40.82, 40.63, 41.03, 41.17, 41.43, 42.0, 41.91, 40.72, 39.05, 38.94, 38.4, 38.56, 38.7, 38.25, 38.94, 39.85, 41.61, 41.68, 43.32, 43.63, 43.84, 44.15, 44.78, 44.61, 44.51, 44.1, 44.51, 44.23, 44.07, 44.38, 44.27, 44.56, 44.51, 44.61, 44.45, 44.35, 44.2, 45.0, 45.38, 45.73, 45.89, 45.76, 45.35, 45.24, 45.48, 45.11, 45.13, 44.67, 44.65, 43.93, 44.12, 43.87, 43.74, 43.09, 43.63, 43.56, 43.88, 43.79, 44.28, 43.51, 43.86, 44.46, 45.08, 45.03, 44.44, 45.19, 45.26, 45.16, 45.29, 45.04, 45.39, 45.29, 45.33, 45.65, 46.08, 45.94, 45.18, 44.92, 45.01, 47.66, 49.06, 49.2, 49.46, 48.99, 49.03, 49.41, 49.26, 49.58, 49.79, 49.91, 50.64, 51.65, 51.15, 51.05, 51.05, 51.15, 51.31, 51.73, 52.15, 52.93, 53.42, 54.03, 54.21, 53.85, 52.96, 52.53, 51.83, 53.14, 52.48, 53.75, 53.14, 51.72, 51.81, 51.84, 52.23, 51.67, 52.41, 52.74, 52.32, 53.4, 53.59, 53.95, 54.43, 55.09, 54.12, 53.24, 53.12, 53.85, 51.36, 50.91, 52.72, 51.6, 52.73, 52.51, 51.28, 52.06, 52.38, 52.87, 51.06, 52.18, 51.35, 50.38, 50.63, 51.95, 52.75, 49.25, 47.85, 48.37, 49.84, 49.66, 48.71, 46.25, 45.79, 44.5, 45.6, 46.1, 44.27, 42.16, 42.11, 41.04, 41.6, 41.51, 43.1, 42.77, 42.54, 44.03, 42.09, 41.62, 40.14, 40.4, 40.17, 40.28, 40.72, 39.42, 39.05, 39.56, 38.33, 37.36, 35.91, 34.98, 37.44, 37.2, 37.22, 37.57, 37.62, 33.87, 35.32, 35.24, 35.91, 36.52, 36.64, 36.28, 35.73, 36.46, 36.91, 37.13, 37.36, 36.52, 36.67, 36.37, 37.58, 37.23, 36.85, 39.36, 39.65, 39.67, 40.79, 41.49, 41.51, 40.72, 40.77, 40.53, 40.88, 40.71, 40.86, 40.77, 40.89, 41.15, 40.92, 41.38, 41.68, 41.7, 41.83, 41.42, 41.86, 42.07, 41.99, 41.75, 41.27, 41.37, 42.8, 43.28, 43.47, 43.95, 44.53, 44.98, 44.62, 45.01, 46.67, 45.7, 45.15, 44.69, 45.09, 45.15, 45.44, 45.75, 46.42, 46.73, 46.81, 47.13, 47.87, 47.73, 47.99, 47.59, 47.58, 47.66, 47.67, 48.59, 48.77, 48.93, 49.64, 49.56, 49.11, 48.87, 48.95, 48.01, 50.36, 50.03, 50.66, 49.87, 48.53, 48.54, 48.02, 47.35, 44.6, 45.31, 45.85, 45.65, 45.39, 43.97, 44.81, 43.89, 43.15, 42.98, 42.8, 42.6, 42.82, 42.04, 41.62, 43.14, 43.84, 44.48, 45.66, 46.25, 46.78, 46.63, 46.63, 46.29, 46.56, 47.66, 47.52, 47.9, 47.74, 47.69, 46.97, 47.98, 47.97, 47.53, 48.4, 48.69, 49.09, 49.05, 48.04, 48.33, 48.81, 48.45, 48.82, 49.28, 49.11, 48.83, 49.39, 48.65, 49.76, 50.15, 50.11, 49.72, 49.89, 50.35, 50.14, 51.16, 50.05, 49.0, 46.43, 47.31, 47.8, 48.85, 48.45, 48.33, 50.38, 48.88, 48.63, 49.78, 50.71, 50.71, 51.26, 51.22, 48.85, 49.78, 49.22, 49.55, 50.38, 50.32, 49.59, 50.43, 51.41, 51.41, 51.63, 52.24, 53.9, 53.78, 52.73, 53.01, 53.2, 53.7, 53.27, 52.49, 52.73, 52.47, 53.28, 53.01, 52.75, 53.99, 54.14, 52.78, 53.23, 54.72, 54.74, 54.09, 54.73, 55.47, 56.94, 56.86, 56.73, 56.5, 56.72, 56.99, 57.98, 57.85, 58.62, 58.72, 59.44, 60.04, 58.65, 58.64, 59.97, 61.67, 62.07, 61.98, 62.01, 62.73, 62.9, 63.4, 63.34, 63.95, 63.5, 64.26, 64.58, 64.39, 63.64, 63.35, 63.3, 64.4, 63.9, 64.76, 64.62, 63.87, 62.73, 63.29, 64.21, 65.45, 64.54, 64.92, 65.47, 65.64, 66.53, 67.67, 67.8, 67.64, 67.71, 67.57, 68.67, 68.73, 70.1, 70.07, 70.49, 71.0, 72.62, 71.91, 72.49, 72.15, 73.31, 74.86, 75.03, 76.64, 75.6, 75.28, 76.22, 77.06, 76.54, 76.82, 77.19, 76.96, 74.7, 76.81, 78.42, 78.31, 74.84, 74.63, 77.09, 77.72, 78.63, 77.56, 77.93, 77.46, 79.3, 78.74, 78.76, 77.31, 78.43, 77.63, 75.87, 72.27, 69.82, 70.93, 66.29, 66.25, 72.42, 70.12, 73.37, 70.99, 70.05, 64.51, 69.16, 66.75, 60.16, 67.37, 58.7, 61.28, 59.78, 59.33, 55.56, 54.38, 59.83, 59.5, 62.64, 60.04, 61.76, 61.63, 58.39, 59.36, 58.51, 63.61, 62.88, 64.49, 64.95, 66.23, 69.57, 68.93, 69.48, 68.54, 67.12, 65.04, 66.92, 66.66, 68.58, 68.63, 67.52, 69.73, 71.21, 70.06, 71.05, 72.12, 72.86, 73.61, 75.37, 76.55, 75.68, 74.76, 75.22, 74.78, 76.54, 76.1, 77.58, 77.0, 77.5, 76.97, 77.31, 77.34, 77.26, 78.22, 78.58, 79.01, 78.33, 80.56, 81.04, 83.6, 85.75, 81.63, 82.33, 83.35, 85.56, 85.44, 85.48, 84.99, 87.21, 89.07, 87.5, 88.66, 85.94, 87.92, 88.65, 88.48, 88.48, 90.85, 90.57, 92.68, 93.08, 93.24, 92.81, 94.35, 95.0, 93.83, 93.64, 95.61, 94.29, 94.56, 90.25, 90.03, 92.16, 90.65, 92.39, 93.5, 103.29, 105.89, 106.6, 106.99, 110.72, 108.2, 109.78, 106.51, 110.05, 112.0, 111.9, 111.61, 112.54, 112.68, 115.18, 121.11, 122.56, 121.56, 123.21, 121.74, 121.54, 125.66, 130.67, 127.96, 117.72, 117.79, 109.87, 114.25, 110.52, 109.07, 112.34, 112.52, 109.19, 107.45, 104.04, 107.2, 108.88, 104.32, 105.39, 109.34, 111.95, 111.1, 112.78, 113.73, 110.06, 113.45, 110.2, 112.07, 111.96, 113.91, 121.14, 117.93, 118.02, 117.55, 115.9, 112.94, 114.43, 113.81, 112.72, 112.03, 112.04, 113.55, 108.29, 112.3, 106.01, 105.92, 107.55, 111.94, 115.91, 115.78, 113.47, 113.13, 116.56, 116.29, 116.34, 117.35, 116.47, 115.14, 115.73, 114.47, 111.06, 112.35, 113.19, 113.73, 116.13, 119.71, 120.06, 119.93, 119.26, 120.72, 121.33, 118.8, 120.22, 119.41, 118.8, 124.75, 124.68, 125.55, 123.56, 125.09, 128.65, 127.75, 128.74, 133.34, 131.57, 130.44, 129.44, 126.24, 127.8, 123.5, 127.71, 128.82, 125.82, 125.64, 127.68, 125.75, 124.03, 124.7, 128.8, 133.52, 135.66, 139.42, 139.65, 138.58, 133.73, 128.73, 130.85, 131.68, 130.66, 134.02, 133.61, 133.76, 132.88, 132.27, 132.02, 132.25, 130.12, 127.83, 126.72, 126.88, 123.1, 122.96, 122.46, 118.2, 118.47, 124.85, 122.24, 119.25, 117.36, 118.62, 113.68, 118.3, 117.22, 119.15, 118.24, 121.13, 122.68, 121.89, 117.75, 117.23, 120.55, 119.72, 117.32, 117.81, 118.42, 118.59, 117.14, 119.34, 120.17, 123.0, 123.3, 124.95, 127.36, 129.94, 128.22, 131.33, 128.99, 131.4, 131.07, 131.73, 130.04, 130.42, 128.9, 131.23, 131.62, 131.29, 130.5, 130.4, 128.43, 129.49, 124.9, 125.15, 126.75, 127.43, 124.14, 123.22, 120.15, 122.3, 124.72, 123.57, 122.18, 122.02, 124.59, 122.75, 124.38, 124.19, 124.14, 122.6, 121.95, 121.62, 122.39, 120.9, 123.2, 123.21, 124.03, 124.41, 123.41, 124.63, 127.69, 126.87, 127.37, 128.97, 127.67, 129.47, 131.12, 130.84, 130.56, 130.26, 131.9, 133.42, 134.03, 134.34, 136.97, 138.98, 141.48, 140.18, 142.01, 141.41, 142.53, 145.96, 145.31, 143.26, 139.4, 143.03, 142.29, 143.66, 145.38, 145.8, 143.63, 141.88, 142.53, 142.74, 142.41, 144.21, 143.81, 143.92, 143.23, 143.18, 142.7, 142.96, 145.92, 146.13, 148.11, 147.2, 143.45, 143.78, 145.24, 146.73, 146.64, 145.41, 144.6, 145.64, 150.07, 148.81, 149.47, 150.59, 151.23, 153.57, 152.02, 151.0, 146.0, 146.57, 145.17, 146.06, 145.83, 143.15, 140.09, 140.57, 142.95, 143.91, 143.99, 142.47, 139.08, 139.99, 138.68, 139.81, 136.37, 138.3, 139.17, 140.44, 140.05, 139.97, 138.69, 138.1, 140.9, 141.96, 143.63, 145.8, 146.29, 146.5, 145.73, 145.68, 146.35, 145.89, 149.53, 146.82, 145.99, 147.03, 148.47, 147.95, 148.48, 147.66, 148.02, 145.19, 145.14, 147.22, 147.23, 148.21, 150.65, 154.95, 157.58, 158.04, 158.43, 158.95, 153.91, 157.28, 162.24, 161.72, 160.73, 158.85, 162.26, 168.02, 171.84, 171.33, 176.13, 172.49, 171.11, 175.99, 169.08, 167.98, 166.61, 169.79, 172.39, 173.02, 177.0, 175.98, 176.06, 174.91, 174.29, 178.65, 176.38, 171.69, 168.82, 168.99, 169.01, 171.84, 172.29, 169.01, 169.87, 166.66, 163.16, 161.47, 159.41, 158.63, 156.83, 156.74, 156.28, 167.18, 171.55, 171.38, 172.59, 169.7, 169.42, 168.7, 171.82, 173.24, 169.15, 165.73, 165.97, 169.81, 169.58, 165.97, 164.42, 161.49, 157.31, 159.94, 162.01, 162.27, 160.39, 163.69, 163.37, 160.36, 156.55, 154.73, 160.14, 155.79, 152.06, 148.02, 152.42, 156.84, 157.85, 161.15, 162.53, 165.91, 167.28, 171.07, 171.71, 172.57, 175.88, 174.71, 171.6, 171.31, 175.36, 172.04, 168.87, 169.17, 167.16, 162.89, 164.77, 167.46, 162.44, 162.23, 164.52, 164.35, 163.55, 159.0, 160.07, 154.1, 153.87, 160.82, 154.93, 155.24, 156.73, 163.16, 154.07, 154.8, 149.66, 152.07, 144.19, 140.31, 144.79, 143.24, 146.88, 138.6, 135.18, 135.42, 140.85, 138.14, 138.3, 141.51, 147.28, 146.49, 146.36, 148.82, 143.08, 143.83, 146.36, 145.62, 140.39, 134.96, 129.8, 130.66, 133.29, 128.01, 129.48, 133.72, 133.21, 136.09, 139.42, 139.42, 135.27, 137.03, 134.56, 136.74, 139.32, 140.66, 144.04, 144.72, 142.58, 143.56, 143.19, 146.13, 147.8, 144.75, 148.62, 150.62, 152.9, 151.66, 150.53, 149.21, 154.31, 154.87, 159.94, 158.96, 157.48, 163.51, 163.19, 162.97, 162.49, 162.54, 166.8, 166.06, 169.62, 170.69, 170.53, 172.03, 171.64, 169.05, 165.15, 164.82, 165.11, 167.58, 161.26, 159.05, 156.62, 154.95, 155.68, 153.56, 152.3, 153.71, 152.23, 155.1, 161.07, 151.62, 153.07, 150.17, 148.53, 152.25, 154.64, 151.5, 150.54, 148.26, 148.6, 149.57, 147.68, 140.43, 136.21, 140.4, 143.99, 144.29, 143.33, 138.07, 138.39, 136.98, 136.34, 140.93, 136.38, 140.36, 141.68, 141.79, 141.32, 145.15, 147.29, 150.14, 147.2, 142.71, 153.49, 151.13, 148.48, 142.94, 136.88, 136.61, 137.14, 137.72, 133.15, 144.99, 147.79, 146.38, 148.12, 146.89, 148.79, 149.36, 146.12, 148.26, 149.14, 146.22, 142.38, 139.36, 146.14, 146.41, 145.92, 144.75, 141.08, 139.14, 140.83, 140.34, 142.64, 143.61, 141.38, 134.75, 132.79, 130.68, 130.61, 133.72, 130.54, 130.17, 128.37, 124.43, 127.95, 128.27, 123.47, 124.74, 123.42, 127.96, 128.49, 129.06, 131.78, 131.7, 133.04, 134.2, 133.48, 133.54, 136.11, 139.31, 140.71, 140.05, 142.12, 144.06, 141.17, 142.44, 143.57, 148.89, 152.52, 149.79, 152.67, 149.98, 148.94, 149.31, 152.11, 151.47, 153.58, 151.98, 150.83, 146.81, 147.23, 147.71, 145.06, 146.25, 145.75, 143.67, 144.26, 149.33, 152.09, 149.89, 151.15, 148.89, 146.82, 148.77, 150.87, 151.26, 154.09, 153.25, 155.62, 157.48, 156.05, 157.14, 158.44, 156.49, 155.87, 158.96, 160.53, 163.04, 164.3, 163.76, 161.91, 162.8, 160.2, 158.99, 158.29, 163.69, 163.35, 163.37, 164.59, 165.74, 164.77, 163.16, 163.46, 161.92, 161.91, 166.51, 167.77, 167.68, 166.64, 165.56, 163.92, 171.61, 171.54, 169.83, 171.6, 171.79, 170.86, 170.36, 170.36, 170.98, 173.31, 173.42, 172.47, 169.86, 170.14, 171.28, 173.69, 175.54, 175.49, 178.3, 179.16, 177.8, 177.43, 176.06, 178.78, 179.17, 181.97, 181.49, 182.13, 184.17, 183.09, 183.18, 182.14, 185.15, 184.83, 183.43, 186.2, 187.37, 187.71, 192.05, 190.55, 189.43, 189.91, 188.79, 186.74, 186.22, 187.89, 188.65, 188.8, 192.07, 191.81, 193.17, 191.22, 190.04, 190.84, 191.7, 192.57, 191.3, 193.89, 194.5, 193.67, 190.67, 189.27, 180.19, 177.08, 178.02, 176.42, 176.21, 176.27, 177.92, 175.93, 175.06, 172.51, 172.99, 174.33, 175.71, 179.57, 174.87, 177.08, 178.64, 182.54, 186.04, 186.26, 187.84, 188.07, 181.34, 176.04, 176.65, 177.82, 174.79, 172.72, 174.23, 173.51, 176.44, 177.53, 173.99, 172.44, 173.29, 174.57, 170.49, 168.97, 169.23, 169.74, 172.26, 170.92, 172.17, 173.41, 175.97, 177.45, 176.86, 178.26, 179.16, 177.32, 177.19, 175.63, 174.33, 173.96, 171.4, 171.52, 171.95, 169.63, 165.46, 166.78, 168.83, 169.31, 172.48, 176.05, 175.14, 177.69, 180.26, 181.32, 180.85, 185.04, 183.46, 186.08, 186.64, 188.33, 188.31, 190.06, 189.25, 189.92, 188.59, 188.41, 189.02, 187.99, 188.57, 189.85, 188.05, 192.01, 190.92, 192.86, 194.29, 191.78, 193.29, 196.52, 196.67, 196.13, 194.47, 195.51, 193.41, 193.26, 192.19, 191.65, 191.75, 192.17, 191.13, 184.29, 182.91, 180.59, 179.86, 184.21, 183.79, 184.84, 184.24, 184.57, 182.3, 181.35, 187.26, 190.17, 192.48, 193.76, 193.09, 192.76, 191.02, 190.34, 186.67, 183.06, 185.5, 184.5, 186.32, 187.92, 188.03, 186.95, 187.72, 186.03, 183.93, 183.04, 182.76, 181.22, 180.47, 181.23, 183.26, 181.42, 180.07, 181.53, 180.33, 179.66, 178.58, 174.05, 169.1, 168.1, 167.99, 169.71, 171.71, 172.19, 170.1, 171.96, 171.58, 172.68, 175.02, 177.6, 170.34, 171.25, 169.82, 168.69, 172.27, 170.45, 169.01, 167.83, 168.63, 167.81, 168.56, 167.44, 168.65, 166.77, 173.99, 175.49, 171.65, 168.36, 166.99, 166.04, 164.01, 164.84, 165.9, 168.01, 168.87, 168.28, 172.46, 169.31, 168.28, 171.99, 182.28, 180.62, 181.31, 181.64, 183.46, 182.2, 185.41, 186.56, 188.84, 188.96, 188.99, 190.15, 191.45, 190.01, 186.01, 189.1, 189.11, 189.4, 190.4, 191.36, 193.13, 193.45, 194.96, 193.57, 195.97, 192.22, 206.19, 212.08, 213.24, 211.5, 215.66, 213.29, 208.7, 206.52, 207.17, 208.1, 212.26, 213.1, 209.64, 215.74, 219.24, 220.52, 223.14, 223.27, 222.92, 223.96, 217.52, 216.48, 216.95, 217.22, 217.78, 221.05, 217.34, 218.84, 208.3, 206.27, 208.84, 212.32, 215.23, 216.77, 220.49, 220.94, 223.93, 225.1, 223.74, 221.99, 220.08, 221.6, 220.05, 220.14, 219.34, 221.88, 221.99, 221.72, 215.56, 216.03, 219.92, 224.88, 220.91, 224.98, 225.12, 222.13, 221.23, 222.67, 221.94, 223.69, 223.69, 224.58, 224.46]\n"
     ]
    }
   ],
   "source": [
    "print('Empirical Rule: ')\n",
    "final_list = [x for x in sample if (x > sample.mean() - 2*sample.std())]\n",
    "final_list = [x for x in final_list if (x < sample.mean() + 2*sample.std())]\n",
    "print(final_list)"
   ]
  },
  {
   "cell_type": "code",
   "execution_count": 78,
   "id": "fde150d7",
   "metadata": {},
   "outputs": [
    {
     "data": {
      "image/png": "[encoded data removed]",
      "text/plain": [
       "<Figure size 640x480 with 1 Axes>"
      ]
     },
     "metadata": {},
     "output_type": "display_data"
    }
   ],
   "source": [
    "plt.hist(final_list, 20,\n",
    "         density = True,\n",
    "         histtype='bar',\n",
    "         facecolor = 'b',\n",
    "         edgecolor = 'k',\n",
    "         alpha = 0.5)\n",
    "plt.title ('Empirical Rule')\n",
    "plt.xlabel('Number of Sample')\n",
    "plt.ylabel('Probability')\n",
    "plt.show()"
   ]
  },
  {
   "cell_type": "code",
   "execution_count": 79,
   "id": "cbb5a424",
   "metadata": {},
   "outputs": [
    {
     "name": "stdout",
     "output_type": "stream",
     "text": [
      "Mean:  94.05671303656597 \n",
      "Median:  64.525 \n",
      "Mode:  21.35\n"
     ]
    },
    {
     "data": {
      "image/png": "[encoded data removed]",
      "text/plain": [
       "<Figure size 1000x500 with 1 Axes>"
      ]
     },
     "metadata": {},
     "output_type": "display_data"
    }
   ],
   "source": [
    "mean = sample.mean()\n",
    "median = sample.median()\n",
    "mode = sample.mode()\n",
    "\n",
    "print('Mean: ',mean,'\\nMedian: ',median,'\\nMode: ',mode[0])\n",
    "plt.figure(figsize=(10,5))\n",
    "plt.hist(sample,bins=100,color='grey')\n",
    "plt.axvline(mean,color='red',label='Mean')\n",
    "plt.axvline(median,color='yellow',label='Median')\n",
    "plt.axvline(mode[0],color='green',label='Mode')\n",
    "plt.xlabel('Sample')\n",
    "plt.ylabel('Frequency')\n",
    "plt.legend()\n",
    "plt.show()"
   ]
  },
  {
   "cell_type": "code",
   "execution_count": 85,
   "id": "20a0cc40",
   "metadata": {},
   "outputs": [
    {
     "data": {
      "text/plain": [
       "<seaborn.axisgrid.FacetGrid at 0x1bc3137f9b0>"
      ]
     },
     "execution_count": 85,
     "metadata": {},
     "output_type": "execute_result"
    },
    {
     "data": {
      "image/png": "[encoded data removed]",
      "text/plain": [
       "<Figure size 500x500 with 1 Axes>"
      ]
     },
     "metadata": {},
     "output_type": "display_data"
    }
   ],
   "source": [
    "import seaborn as sns\n",
    "\n",
    "sns.displot(final_list, color = 'dodgerblue')"
   ]
  },
  {
   "cell_type": "code",
   "execution_count": null,
   "id": "3c1fb00b",
   "metadata": {},
   "outputs": [],
   "source": [
    "#convert pandas dataframe object to numpy array and sort\n",
    "h = np.asarray(sample)\n",
    "h = sorted(h)"
   ]
  },
  {
   "cell_type": "code",
   "execution_count": 87,
   "id": "224f2798",
   "metadata": {},
   "outputs": [],
   "source": [
    "#use the scipy stats module to fit a normal distribution with same mean and standard deviation\n",
    "fit = stats.norm.pdf(h, np.mean(h), np.std(h))"
   ]
  },
  {
   "cell_type": "code",
   "execution_count": 89,
   "id": "fafe9788",
   "metadata": {},
   "outputs": [
    {
     "data": {
      "image/png": "[encoded data removed]",
      "text/plain": [
       "<Figure size 640x480 with 1 Axes>"
      ]
     },
     "metadata": {},
     "output_type": "display_data"
    }
   ],
   "source": [
    "#plot both series on the histogram\n",
    "\n",
    "plt.plot(h, fit, '-', linewidth = 2, label = 'Normal Distibution with same mean and variance')\n",
    "plt.hist(h, density = True, bins = 100, label = 'Actual Distribution')\n",
    "plt.legend()\n",
    "plt.show()"
   ]
  },
  {
   "cell_type": "code",
   "execution_count": 91,
   "id": "3f92fc94",
   "metadata": {},
   "outputs": [
    {
     "name": "stdout",
     "output_type": "stream",
     "text": [
      "                            OLS Regression Results                            \n",
      "==============================================================================\n",
      "Dep. Variable:                  Close   R-squared:                       1.000\n",
      "Model:                            OLS   Adj. R-squared:                  1.000\n",
      "Method:                 Least Squares   F-statistic:                 5.567e+06\n",
      "Date:                Thu, 05 Jun 2025   Prob (F-statistic):               0.00\n",
      "Time:                        09:47:58   Log-Likelihood:                -2659.1\n",
      "No. Observations:                2516   AIC:                             5328.\n",
      "Df Residuals:                    2511   BIC:                             5357.\n",
      "Df Model:                           4                                         \n",
      "Covariance Type:            nonrobust                                         \n",
      "==============================================================================\n",
      "                 coef    std err          t      P>|t|      [0.025      0.975]\n",
      "------------------------------------------------------------------------------\n",
      "Intercept      0.0418      0.050      0.828      0.408      -0.057       0.141\n",
      "Open          -0.6100      0.016    -38.256      0.000      -0.641      -0.579\n",
      "High           0.8094      0.015     55.374      0.000       0.781       0.838\n",
      "Low            0.8007      0.015     53.613      0.000       0.771       0.830\n",
      "Volume     -2.571e-10   2.64e-10     -0.975      0.329   -7.74e-10     2.6e-10\n",
      "==============================================================================\n",
      "Omnibus:                      346.909   Durbin-Watson:                   2.137\n",
      "Prob(Omnibus):                  0.000   Jarque-Bera (JB):             4415.831\n",
      "Skew:                          -0.101   Prob(JB):                         0.00\n",
      "Kurtosis:                       9.487   Cond. No.                     4.96e+08\n",
      "==============================================================================\n",
      "\n",
      "Notes:\n",
      "[1] Standard Errors assume that the covariance matrix of the errors is correctly specified.\n",
      "[2] The condition number is large, 4.96e+08. This might indicate that there are\n",
      "strong multicollinearity or other numerical problems.\n"
     ]
    }
   ],
   "source": [
    "#ordinary least square\n",
    "from statsmodels.formula.api import ols\n",
    "\n",
    "mlr = ols('Close ~ Open + High + Low + Volume', dataset).fit()\n",
    "print(mlr.summary())"
   ]
  },
  {
   "cell_type": "code",
   "execution_count": null,
   "id": "de3f2ac9",
   "metadata": {},
   "outputs": [],
   "source": []
  },
  {
   "cell_type": "code",
   "execution_count": null,
   "id": "e15e55e9",
   "metadata": {},
   "outputs": [],
   "source": []
  },
  {
   "cell_type": "code",
   "execution_count": null,
   "id": "b07a228c",
   "metadata": {},
   "outputs": [],
   "source": []
  },
  {
   "cell_type": "code",
   "execution_count": null,
   "id": "8aa6def4",
   "metadata": {},
   "outputs": [],
   "source": []
  },
  {
   "cell_type": "code",
   "execution_count": null,
   "id": "b02706ec",
   "metadata": {},
   "outputs": [],
   "source": []
  }
 ],
 "metadata": {
  "kernelspec": {
   "display_name": "myenv",
   "language": "python",
   "name": "python3"
  },
  "language_info": {
   "codemirror_mode": {
    "name": "ipython",
    "version": 3
   },
   "file_extension": ".py",
   "mimetype": "text/x-python",
   "name": "python",
   "nbconvert_exporter": "python",
   "pygments_lexer": "ipython3",
   "version": "3.12.6"
  }
 },
 "nbformat": 4,
 "nbformat_minor": 5
}
