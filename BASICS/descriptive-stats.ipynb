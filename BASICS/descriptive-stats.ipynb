{
 "cells": [
  {
   "cell_type": "markdown",
   "id": "a0b70fb6",
   "metadata": {},
   "source": [
    "***DESCRIPTIVE STATISTICS***"
   ]
  },
  {
   "cell_type": "code",
   "execution_count": 11,
   "id": "778a3b6c",
   "metadata": {},
   "outputs": [],
   "source": [
    "import pandas as pd\n",
    "import numpy as np\n",
    "import matplotlib.pyplot as plt\n",
    "import math\n",
    "import seaborn as sns\n",
    "from scipy import stats\n",
    "\n",
    "import warnings \n",
    "warnings.filterwarnings('ignore')\n",
    "\n",
    "import yfinance as yf"
   ]
  },
  {
   "cell_type": "code",
   "execution_count": 150,
   "id": "4062afb6",
   "metadata": {},
   "outputs": [
    {
     "name": "stderr",
     "output_type": "stream",
     "text": [
      "[*********************100%***********************]  1 of 1 completed\n"
     ]
    },
    {
     "data": {
      "text/html": [
       "<div>\n",
       "<style scoped>\n",
       "    .dataframe tbody tr th:only-of-type {\n",
       "        vertical-align: middle;\n",
       "    }\n",
       "\n",
       "    .dataframe tbody tr th {\n",
       "        vertical-align: top;\n",
       "    }\n",
       "\n",
       "    .dataframe thead th {\n",
       "        text-align: right;\n",
       "    }\n",
       "</style>\n",
       "<table border=\"1\" class=\"dataframe\">\n",
       "  <thead>\n",
       "    <tr style=\"text-align: right;\">\n",
       "      <th>Price</th>\n",
       "      <th>Close</th>\n",
       "      <th>High</th>\n",
       "      <th>Low</th>\n",
       "      <th>Open</th>\n",
       "      <th>Volume</th>\n",
       "    </tr>\n",
       "    <tr>\n",
       "      <th>Date</th>\n",
       "      <th></th>\n",
       "      <th></th>\n",
       "      <th></th>\n",
       "      <th></th>\n",
       "      <th></th>\n",
       "    </tr>\n",
       "  </thead>\n",
       "  <tbody>\n",
       "    <tr>\n",
       "      <th>2020-01-01</th>\n",
       "      <td>682.636536</td>\n",
       "      <td>690.549999</td>\n",
       "      <td>680.782581</td>\n",
       "      <td>686.435003</td>\n",
       "      <td>14004468</td>\n",
       "    </tr>\n",
       "    <tr>\n",
       "      <th>2020-01-02</th>\n",
       "      <td>694.257996</td>\n",
       "      <td>696.812926</td>\n",
       "      <td>683.721805</td>\n",
       "      <td>683.721805</td>\n",
       "      <td>17710316</td>\n",
       "    </tr>\n",
       "    <tr>\n",
       "      <th>2020-01-03</th>\n",
       "      <td>695.094604</td>\n",
       "      <td>697.129493</td>\n",
       "      <td>688.695988</td>\n",
       "      <td>693.217950</td>\n",
       "      <td>20984698</td>\n",
       "    </tr>\n",
       "    <tr>\n",
       "      <th>2020-01-06</th>\n",
       "      <td>678.973755</td>\n",
       "      <td>690.911716</td>\n",
       "      <td>677.391050</td>\n",
       "      <td>687.339402</td>\n",
       "      <td>24519177</td>\n",
       "    </tr>\n",
       "    <tr>\n",
       "      <th>2020-01-07</th>\n",
       "      <td>689.419495</td>\n",
       "      <td>693.896238</td>\n",
       "      <td>684.400070</td>\n",
       "      <td>686.887143</td>\n",
       "      <td>16683622</td>\n",
       "    </tr>\n",
       "  </tbody>\n",
       "</table>\n",
       "</div>"
      ],
      "text/plain": [
       "Price            Close        High         Low        Open    Volume\n",
       "Date                                                                \n",
       "2020-01-01  682.636536  690.549999  680.782581  686.435003  14004468\n",
       "2020-01-02  694.257996  696.812926  683.721805  683.721805  17710316\n",
       "2020-01-03  695.094604  697.129493  688.695988  693.217950  20984698\n",
       "2020-01-06  678.973755  690.911716  677.391050  687.339402  24519177\n",
       "2020-01-07  689.419495  693.896238  684.400070  686.887143  16683622"
      ]
     },
     "execution_count": 150,
     "metadata": {},
     "output_type": "execute_result"
    }
   ],
   "source": [
    "stock = 'RELIANCE.NS'\n",
    "start = '2020-01-01'\n",
    "end = '2025-01-01'\n",
    "\n",
    "dataset = yf.download(stock, start, end)\n",
    "dataset.columns = dataset.columns.get_level_values(0)\n",
    "dataset.head()"
   ]
  },
  {
   "cell_type": "code",
   "execution_count": 151,
   "id": "5da52992",
   "metadata": {},
   "outputs": [
    {
     "data": {
      "text/html": [
       "<div>\n",
       "<style scoped>\n",
       "    .dataframe tbody tr th:only-of-type {\n",
       "        vertical-align: middle;\n",
       "    }\n",
       "\n",
       "    .dataframe tbody tr th {\n",
       "        vertical-align: top;\n",
       "    }\n",
       "\n",
       "    .dataframe thead th {\n",
       "        text-align: right;\n",
       "    }\n",
       "</style>\n",
       "<table border=\"1\" class=\"dataframe\">\n",
       "  <thead>\n",
       "    <tr style=\"text-align: right;\">\n",
       "      <th>Price</th>\n",
       "      <th>Close</th>\n",
       "      <th>High</th>\n",
       "      <th>Low</th>\n",
       "      <th>Open</th>\n",
       "      <th>Volume</th>\n",
       "    </tr>\n",
       "    <tr>\n",
       "      <th>Date</th>\n",
       "      <th></th>\n",
       "      <th></th>\n",
       "      <th></th>\n",
       "      <th></th>\n",
       "      <th></th>\n",
       "    </tr>\n",
       "  </thead>\n",
       "  <tbody>\n",
       "    <tr>\n",
       "      <th>2024-12-24</th>\n",
       "      <td>1222.750000</td>\n",
       "      <td>1233.550049</td>\n",
       "      <td>1221.000000</td>\n",
       "      <td>1222.300049</td>\n",
       "      <td>6734917</td>\n",
       "    </tr>\n",
       "    <tr>\n",
       "      <th>2024-12-26</th>\n",
       "      <td>1216.550049</td>\n",
       "      <td>1227.699951</td>\n",
       "      <td>1214.250000</td>\n",
       "      <td>1224.250000</td>\n",
       "      <td>10016178</td>\n",
       "    </tr>\n",
       "    <tr>\n",
       "      <th>2024-12-27</th>\n",
       "      <td>1221.050049</td>\n",
       "      <td>1227.900024</td>\n",
       "      <td>1217.000000</td>\n",
       "      <td>1218.300049</td>\n",
       "      <td>7000397</td>\n",
       "    </tr>\n",
       "    <tr>\n",
       "      <th>2024-12-30</th>\n",
       "      <td>1210.699951</td>\n",
       "      <td>1223.199951</td>\n",
       "      <td>1208.099976</td>\n",
       "      <td>1216.400024</td>\n",
       "      <td>8818766</td>\n",
       "    </tr>\n",
       "    <tr>\n",
       "      <th>2024-12-31</th>\n",
       "      <td>1215.449951</td>\n",
       "      <td>1219.099976</td>\n",
       "      <td>1206.150024</td>\n",
       "      <td>1208.000000</td>\n",
       "      <td>6405475</td>\n",
       "    </tr>\n",
       "  </tbody>\n",
       "</table>\n",
       "</div>"
      ],
      "text/plain": [
       "Price             Close         High          Low         Open    Volume\n",
       "Date                                                                    \n",
       "2024-12-24  1222.750000  1233.550049  1221.000000  1222.300049   6734917\n",
       "2024-12-26  1216.550049  1227.699951  1214.250000  1224.250000  10016178\n",
       "2024-12-27  1221.050049  1227.900024  1217.000000  1218.300049   7000397\n",
       "2024-12-30  1210.699951  1223.199951  1208.099976  1216.400024   8818766\n",
       "2024-12-31  1215.449951  1219.099976  1206.150024  1208.000000   6405475"
      ]
     },
     "execution_count": 151,
     "metadata": {},
     "output_type": "execute_result"
    }
   ],
   "source": [
    "dataset.tail()"
   ]
  },
  {
   "cell_type": "code",
   "execution_count": 152,
   "id": "02edcf53",
   "metadata": {},
   "outputs": [
    {
     "data": {
      "text/plain": [
       "Date\n",
       "2024-12-24    1222.75\n",
       "2024-12-26    1216.55\n",
       "2024-12-27    1221.05\n",
       "2024-12-30    1210.70\n",
       "2024-12-31    1215.45\n",
       "Name: Close, dtype: float64"
      ]
     },
     "execution_count": 152,
     "metadata": {},
     "output_type": "execute_result"
    }
   ],
   "source": [
    "sample = round(dataset['Close'], 2)\n",
    "sample.tail()"
   ]
  },
  {
   "cell_type": "code",
   "execution_count": 153,
   "id": "146ba564",
   "metadata": {},
   "outputs": [
    {
     "name": "stdout",
     "output_type": "stream",
     "text": [
      "Sample Statistics:\n",
      "Sample Mean:  1108.81147819063\n",
      "Sample Variance:  53370.21345254237\n",
      "Sample Standarad Deviation:  231.01994167721185\n",
      "Sample Median:  1129.9699999999998\n",
      "Sample Mode:  875.96\n"
     ]
    }
   ],
   "source": [
    "print('Sample Statistics:')\n",
    "print('Sample Mean: ', sample.mean())\n",
    "print('Sample Variance: ', sample.var())\n",
    "print('Sample Standarad Deviation: ', sample.std())\n",
    "print('Sample Median: ', np.median(sample))\n",
    "print('Sample Mode: ', stats.mode(sample, keepdims=True).mode[0] )\n"
   ]
  },
  {
   "cell_type": "code",
   "execution_count": 154,
   "id": "cede8e4c",
   "metadata": {},
   "outputs": [
    {
     "name": "stdout",
     "output_type": "stream",
     "text": [
      "Sample percentile of 50th:  1129.9699999999998\n"
     ]
    }
   ],
   "source": [
    "#percentiles\n",
    "\n",
    "p = np.percentile(sample, 50)\n",
    "print('Sample percentile of 50th: ', p)"
   ]
  },
  {
   "cell_type": "code",
   "execution_count": 155,
   "id": "2b126abc",
   "metadata": {},
   "outputs": [
    {
     "data": {
      "text/plain": [
       "0.25     965.740\n",
       "0.50    1129.970\n",
       "0.75    1232.445\n",
       "Name: Close, dtype: float64"
      ]
     },
     "execution_count": 155,
     "metadata": {},
     "output_type": "execute_result"
    }
   ],
   "source": [
    "#Quartiles\n",
    "\n",
    "sample.quantile([0.25, 0.5, 0.75])"
   ]
  },
  {
   "cell_type": "code",
   "execution_count": 156,
   "id": "5b1c0d4b",
   "metadata": {},
   "outputs": [
    {
     "name": "stdout",
     "output_type": "stream",
     "text": [
      "Range:  1195.72\n"
     ]
    }
   ],
   "source": [
    "#range\n",
    "\n",
    "print('Range: ', sample.max() - sample.min())"
   ]
  },
  {
   "cell_type": "code",
   "execution_count": 157,
   "id": "58114292",
   "metadata": {},
   "outputs": [
    {
     "name": "stdout",
     "output_type": "stream",
     "text": [
      "Interquartile range (IQR):  266.7049999999999\n"
     ]
    }
   ],
   "source": [
    "#interquartile range\n",
    "\n",
    "from scipy.stats import iqr\n",
    "\n",
    "print('Interquartile range (IQR): ', iqr(sample))"
   ]
  },
  {
   "cell_type": "code",
   "execution_count": 158,
   "id": "5c9e565e",
   "metadata": {},
   "outputs": [
    {
     "name": "stdout",
     "output_type": "stream",
     "text": [
      "Sample Harmonic mean:  1049.3587039647493\n"
     ]
    }
   ],
   "source": [
    "#harmonic mean\n",
    "\n",
    "print('Sample Harmonic mean: ', stats.hmean(sample))"
   ]
  },
  {
   "cell_type": "code",
   "execution_count": 159,
   "id": "44e2a0ff",
   "metadata": {},
   "outputs": [
    {
     "data": {
      "image/png": "[encoded data removed]",
      "text/plain": [
       "<Figure size 640x480 with 1 Axes>"
      ]
     },
     "metadata": {},
     "output_type": "display_data"
    }
   ],
   "source": [
    "plt.boxplot(sample)\n",
    "plt.show()"
   ]
  },
  {
   "cell_type": "code",
   "execution_count": 160,
   "id": "df63c65d",
   "metadata": {},
   "outputs": [
    {
     "name": "stdout",
     "output_type": "stream",
     "text": [
      "Identified outliers: 2\n",
      "Non-outlier observations: 1236\n"
     ]
    }
   ],
   "source": [
    "#calculate summary statistics\n",
    "data_mean, data_std = sample.mean(), sample.std()\n",
    "\n",
    "#identify outliers\n",
    "cutoff = data_std * 3\n",
    "lower, upper = data_mean - cutoff, data_mean + cutoff\n",
    "\n",
    "#identify outliers\n",
    "outliers = [x for x in sample if x < lower or x > upper]\n",
    "print('Identified outliers: %d' % len(outliers))\n",
    "\n",
    "#remove outliers\n",
    "outliers_removed = [x for x in sample if x >= lower and x <= upper]\n",
    "print('Non-outlier observations: %d' % len(outliers_removed))"
   ]
  },
  {
   "cell_type": "code",
   "execution_count": 161,
   "id": "adf8774f",
   "metadata": {},
   "outputs": [
    {
     "name": "stdout",
     "output_type": "stream",
     "text": [
      "Percentiles: 25th=965.740, 75th=1232.445, IQR=266.705\n",
      "Identified outliers: 27\n",
      "Non-outlier observations: 1211\n"
     ]
    }
   ],
   "source": [
    "q25, q75 = np.percentile(sample, 25), np.percentile(sample, 75)\n",
    "iqr = q75 - q25\n",
    "print('Percentiles: 25th=%.3f, 75th=%.3f, IQR=%.3f' % (q25, q75, iqr))\n",
    "# calculate the outlier cutoff\n",
    "cut_off = iqr * 1.5\n",
    "lower, upper = q25 - cut_off, q75 + cut_off\n",
    "# identify outliers\n",
    "outliers = [x for x in sample if x < lower or x > upper]\n",
    "print('Identified outliers: %d' % len(outliers))\n",
    "# remove outliers\n",
    "outliers_removed = [x for x in sample if x >= lower and x <= upper]\n",
    "print('Non-outlier observations: %d' % len(outliers_removed))"
   ]
  },
  {
   "cell_type": "code",
   "execution_count": 162,
   "id": "8cf37dbd",
   "metadata": {},
   "outputs": [
    {
     "name": "stdout",
     "output_type": "stream",
     "text": [
      "Skewness:  -0.4088563891639537\n"
     ]
    }
   ],
   "source": [
    "print('Skewness: ', sample.skew())"
   ]
  },
  {
   "cell_type": "code",
   "execution_count": 163,
   "id": "c7c896df",
   "metadata": {},
   "outputs": [
    {
     "name": "stdout",
     "output_type": "stream",
     "text": [
      "Five_number Summary: \n",
      "count    1238.000000\n",
      "mean     1108.811478\n",
      "std       231.019942\n",
      "min       399.760000\n",
      "25%       965.740000\n",
      "50%      1129.970000\n",
      "75%      1232.445000\n",
      "max      1595.480000\n",
      "Name: Close, dtype: float64\n"
     ]
    }
   ],
   "source": [
    "print('Five_number Summary: ')\n",
    "print(sample.describe())"
   ]
  },
  {
   "cell_type": "code",
   "execution_count": 164,
   "id": "2cfe544e",
   "metadata": {},
   "outputs": [
    {
     "name": "stdout",
     "output_type": "stream",
     "text": [
      "Z-Score:  [-1.84548442 -1.79516541 -1.79157119 ...  0.48603544  0.44121601\n",
      "  0.46178532]\n"
     ]
    }
   ],
   "source": [
    "print(\"Z-Score: \", stats.zscore(sample))"
   ]
  },
  {
   "cell_type": "code",
   "execution_count": 165,
   "id": "c275f2c0",
   "metadata": {},
   "outputs": [
    {
     "name": "stdout",
     "output_type": "stream",
     "text": [
      "Coefficient of Variation:  0.20826499696115486\n"
     ]
    }
   ],
   "source": [
    "print('Coefficient of Variation: ', stats.variation(sample))"
   ]
  },
  {
   "cell_type": "code",
   "execution_count": 166,
   "id": "3c496276",
   "metadata": {},
   "outputs": [
    {
     "data": {
      "text/plain": [
       "{'whiskers': [<matplotlib.lines.Line2D at 0x1bc3512fad0>,\n",
       "  <matplotlib.lines.Line2D at 0x1bc3512fda0>],\n",
       " 'caps': [<matplotlib.lines.Line2D at 0x1bc3513c0b0>,\n",
       "  <matplotlib.lines.Line2D at 0x1bc3513c380>],\n",
       " 'boxes': [<matplotlib.lines.Line2D at 0x1bc3512f890>],\n",
       " 'medians': [<matplotlib.lines.Line2D at 0x1bc3513c620>],\n",
       " 'fliers': [<matplotlib.lines.Line2D at 0x1bc3513c8f0>],\n",
       " 'means': []}"
      ]
     },
     "execution_count": 166,
     "metadata": {},
     "output_type": "execute_result"
    },
    {
     "data": {
      "image/png": "[encoded data removed]",
      "text/plain": [
       "<Figure size 640x480 with 1 Axes>"
      ]
     },
     "metadata": {},
     "output_type": "display_data"
    }
   ],
   "source": [
    "fig1, ax1 = plt.subplots()\n",
    "ax1.set_title('Sample Box Plot')\n",
    "ax1.boxplot(sample)"
   ]
  },
  {
   "cell_type": "code",
   "execution_count": 167,
   "id": "30cbcbb9",
   "metadata": {},
   "outputs": [
    {
     "data": {
      "text/plain": [
       "{'whiskers': [<matplotlib.lines.Line2D at 0x1bc34f27500>,\n",
       "  <matplotlib.lines.Line2D at 0x1bc34f27650>],\n",
       " 'caps': [<matplotlib.lines.Line2D at 0x1bc34f25af0>,\n",
       "  <matplotlib.lines.Line2D at 0x1bc34eceb70>],\n",
       " 'boxes': [<matplotlib.lines.Line2D at 0x1bc34f24200>],\n",
       " 'medians': [<matplotlib.lines.Line2D at 0x1bc33cdbe60>],\n",
       " 'fliers': [<matplotlib.lines.Line2D at 0x1bc34e9d790>],\n",
       " 'means': []}"
      ]
     },
     "execution_count": 167,
     "metadata": {},
     "output_type": "execute_result"
    },
    {
     "data": {
      "image/png": "[encoded data removed]",
      "text/plain": [
       "<Figure size 640x480 with 1 Axes>"
      ]
     },
     "metadata": {},
     "output_type": "display_data"
    }
   ],
   "source": [
    "red_square = dict(markerfacecolor = 'r', marker  = 's')\n",
    "fig2, ax2 = plt.subplots()\n",
    "ax2.set_title('Horizontal Boxes')\n",
    "ax2.boxplot(sample, vert = False, flierprops = red_square)"
   ]
  },
  {
   "cell_type": "code",
   "execution_count": 168,
   "id": "fc92b6d0",
   "metadata": {},
   "outputs": [
    {
     "name": "stdout",
     "output_type": "stream",
     "text": [
      "Empirical Rule: \n",
      "[682.64, 694.26, 695.09, 678.97, 689.42, 684.24, 700.0, 699.84, 698.06, 691.59, 689.08, 695.43, 714.92, 692.92, 693.62, 693.38, 690.44, 688.04, 681.26, 665.52, 669.18, 652.86, 655.01, 659.21, 648.29, 649.17, 656.93, 664.87, 666.61, 672.69, 668.46, 663.55, 680.01, 671.94, 653.4, 662.92, 648.99, 660.5, 660.55, 681.44, 706.24, 713.02, 668.91, 683.1, 655.49, 666.19, 657.68, 654.46, 657.91, 653.48, 650.06, 659.87, 672.06, 668.47, 694.01, 701.02, 703.74, 721.15, 722.02, 716.45, 701.68, 717.66, 701.93, 725.26, 737.02, 738.45, 737.38, 755.89, 803.14, 797.09, 785.56, 788.73, 784.19, 795.03, 786.59, 777.89, 793.19, 806.84, 819.47, 848.76, 835.76, 824.1, 836.13, 860.79, 886.89, 878.64, 845.18, 844.91, 876.21, 879.97, 903.64, 918.52, 943.17, 983.67, 988.27, 998.13, 960.98, 966.57, 947.44, 920.81, 985.71, 974.64, 978.15, 983.81, 971.61, 978.01, 975.17, 972.62, 968.84, 958.55, 971.02, 976.98, 961.16, 954.2, 960.57, 954.31, 979.61, 967.37, 969.92, 953.67, 956.67, 975.44, 968.06, 952.09, 954.56, 965.77, 990.64, 1060.6, 1063.24, 1055.35, 1062.82, 1065.44, 1053.61, 1056.8, 1033.95, 1013.46, 1022.47, 999.73, 1009.13, 1015.8, 1029.0, 1024.09, 1019.92, 1013.94, 1013.09, 1034.7, 1026.34, 1023.68, 1025.33, 1045.34, 1048.45, 1011.33, 997.26, 997.44, 988.14, 973.79, 965.7, 968.5, 930.02, 932.49, 921.93, 929.01, 941.66, 860.51, 848.11, 876.9, 896.06, 930.04, 939.92, 955.43, 915.4, 907.52, 915.03, 917.74, 913.59, 910.82, 904.38, 870.62, 894.09, 900.2, 892.76, 894.96, 884.51, 896.01, 897.5, 900.2, 892.28, 897.52, 913.82, 929.03, 919.89, 919.34, 912.69, 904.93, 905.93, 910.08, 912.81, 889.04, 887.67, 890.95, 914.0, 918.19, 912.12, 914.62, 909.94, 910.95, 912.49, 901.14, 877.38, 875.96, 886.29, 869.59, 897.0, 888.63, 898.62, 888.01, 909.33, 924.2, 941.75, 962.24, 939.42, 889.64, 868.56, 860.1, 844.24, 868.69, 882.67, 884.9, 881.99, 881.73, 894.43, 896.58, 904.9, 942.21, 935.75, 931.62, 943.95, 954.84, 947.71, 953.49, 920.39, 927.43, 944.64, 982.84, 956.01, 963.3, 965.27, 1009.31, 997.28, 998.59, 1004.27, 1004.25, 1000.08, 979.75, 966.6, 962.79, 942.05, 920.85, 954.27, 945.28, 956.79, 938.36, 912.76, 914.23, 930.11, 918.1, 926.7, 913.29, 909.49, 917.99, 919.13, 908.45, 875.96, 885.42, 891.15, 885.56, 871.63, 871.37, 873.78, 872.84, 888.2, 911.48, 915.44, 927.7, 914.16, 897.91, 878.46, 880.06, 885.06, 885.4, 882.86, 886.04, 876.87, 887.94, 898.51, 911.16, 915.33, 909.99, 917.85, 910.1, 899.79, 902.95, 905.73, 960.13, 990.15, 994.1, 1008.92, 1012.77, 1004.0, 1020.91, 1015.04, 996.89, 1000.56, 1017.91, 1032.52, 1034.86, 1017.2, 1019.06, 1023.66, 1029.0, 1023.71, 1014.33, 990.48, 967.92, 959.43, 960.26, 970.77, 964.93, 979.23, 988.96, 977.28, 970.49, 962.47, 952.63, 958.56, 965.73, 959.43, 957.75, 971.57, 965.39, 963.02, 975.39, 968.49, 955.22, 945.17, 937.06, 944.37, 936.11, 953.22, 960.24, 967.6, 981.62, 960.84, 955.36, 960.38, 973.83, 970.7, 986.87, 999.68, 995.42, 999.29, 988.06, 994.55, 1004.37, 1013.06, 1025.87, 1024.47, 1044.18, 1038.61, 1042.73, 1055.28, 1098.56, 1115.63, 1122.66, 1118.27, 1115.63, 1090.77, 1089.34, 1093.87, 1116.82, 1099.51, 1101.25, 1106.01, 1117.88, 1145.2, 1141.89, 1161.09, 1171.95, 1162.66, 1158.7, 1160.75, 1175.67, 1200.07, 1177.37, 1183.15, 1228.61, 1220.06, 1227.02, 1239.51, 1242.02, 1245.33, 1256.48, 1242.02, 1206.19, 1208.44, 1196.67, 1223.92, 1208.44, 1195.2, 1166.52, 1167.23, 1150.21, 1142.3, 1149.32, 1150.74, 1159.83, 1172.8, 1174.94, 1192.67, 1185.63, 1158.08, 1133.29, 1137.57, 1087.18, 1097.34, 1081.5, 1146.6, 1109.65, 1122.94, 1106.34, 1134.67, 1141.96, 1107.65, 1086.65, 1095.51, 1112.18, 1129.82, 1130.97, 1108.29, 1094.72, 1091.53, 1105.65, 1076.46, 1047.44, 1063.03, 1088.26, 1087.87, 1091.34, 1090.17, 1103.12, 1105.0, 1085.04, 1089.2, 1105.62, 1130.58, 1135.86, 1111.44, 1120.41, 1121.33, 1129.4, 1159.55, 1166.08, 1167.78, 1173.88, 1159.87, 1159.78, 1139.48, 1139.66, 1093.69, 1091.55, 1075.38, 1074.35, 1097.69, 1094.06, 1096.29, 1082.12, 1072.26, 1065.72, 1083.64, 1096.26, 1095.14, 1093.0, 1075.59, 1112.11, 1109.81, 1123.86, 1115.08, 1103.81, 1098.79, 1091.92, 1037.51, 1050.48, 1085.25, 1103.19, 1093.87, 1069.61, 1030.06, 1028.19, 1082.74, 1100.29, 1103.46, 1112.52, 1087.04, 1105.39, 1141.43, 1134.85, 1164.17, 1167.88, 1186.02, 1193.93, 1205.94, 1206.21, 1229.39, 1211.82, 1221.53, 1225.14, 1207.82, 1204.6, 1183.35, 1203.04, 1200.53, 1177.93, 1173.6, 1170.02, 1214.61, 1250.32, 1279.6, 1268.88, 1239.54, 1276.63, 1277.87, 1296.96, 1283.34, 1278.84, 1238.91, 1214.65, 1205.34, 1158.26, 1138.19, 1126.53, 1103.58, 1116.09, 1116.36, 1163.25, 1167.49, 1140.58, 1207.09, 1199.01, 1203.13, 1201.36, 1189.91, 1184.39, 1225.65, 1210.86, 1211.25, 1253.01, 1278.4, 1272.9, 1275.3, 1252.9, 1287.25, 1248.39, 1224.77, 1208.77, 1194.14, 1177.44, 1191.24, 1169.65, 1188.53, 1152.42, 1133.73, 1149.87, 1146.47, 1162.59, 1186.71, 1193.84, 1107.85, 1110.15, 1119.15, 1109.3, 1098.38, 1099.9, 1114.85, 1113.26, 1093.53, 1102.54, 1104.68, 1114.09, 1120.92, 1151.23, 1143.55, 1151.27, 1113.24, 1113.74, 1112.68, 1130.12, 1154.19, 1184.27, 1188.78, 1198.76, 1182.92, 1165.48, 1180.73, 1187.79, 1191.75, 1211.02, 1219.44, 1225.81, 1224.04, 1202.21, 1198.88, 1217.37, 1214.12, 1210.58, 1204.12, 1194.76, 1213.3, 1177.63, 1163.88, 1181.95, 1194.39, 1187.45, 1189.13, 1181.72, 1194.94, 1204.92, 1190.48, 1178.69, 1149.48, 1150.97, 1151.16, 1154.33, 1143.45, 1122.02, 1093.44, 1102.13, 1072.78, 1069.5, 1093.62, 1089.83, 1109.92, 1114.02, 1118.73, 1106.52, 1084.49, 1092.47, 1095.94, 1090.38, 1107.88, 1127.43, 1147.04, 1150.12, 1136.78, 1140.58, 1122.96, 1127.38, 1161.87, 1172.66, 1163.58, 1170.84, 1175.21, 1192.51, 1198.88, 1197.68, 1183.19, 1210.47, 1204.6, 1199.2, 1192.32, 1195.4, 1194.76, 1173.26, 1179.77, 1176.09, 1186.23, 1203.94, 1245.31, 1247.45, 1256.25, 1252.55, 1252.02, 1233.76, 1237.33, 1219.07, 1218.49, 1200.03, 1201.87, 1207.34, 1202.97, 1185.88, 1180.02, 1195.52, 1205.87, 1188.71, 1185.63, 1150.86, 1160.91, 1170.41, 1170.29, 1169.76, 1171.56, 1184.76, 1176.09, 1158.38, 1156.31, 1166.82, 1194.37, 1176.71, 1161.87, 1136.78, 1134.95, 1124.14, 1140.1, 1138.21, 1136.99, 1123.47, 1117.79, 1111.19, 1095.83, 1075.04, 1085.34, 1082.63, 1076.21, 1070.25, 1071.2, 1063.13, 1060.57, 1081.75, 1083.64, 1074.72, 1068.6, 1093.78, 1118.55, 1117.67, 1122.34, 1110.48, 1119.54, 1094.15, 1088.91, 1096.36, 1089.07, 1068.23, 1078.05, 1069.84, 1097.14, 1107.85, 1111.83, 1085.11, 1068.3, 1050.73, 1046.8, 1028.91, 1023.78, 1022.49, 1012.44, 1043.92, 1047.1, 1033.85, 1013.38, 1029.14, 1033.94, 1027.83, 1072.14, 1072.32, 1069.75, 1076.92, 1069.29, 1074.58, 1079.32, 1083.39, 1088.88, 1076.42, 1081.78, 1079.04, 1080.4, 1084.54, 1092.84, 1086.42, 1093.3, 1113.28, 1122.73, 1113.1, 1125.93, 1123.06, 1136.92, 1140.44, 1148.28, 1140.79, 1142.65, 1144.9, 1128.6, 1121.93, 1119.51, 1123.15, 1129.15, 1128.94, 1122.37, 1122.23, 1152.84, 1159.32, 1159.02, 1136.0, 1132.94, 1129.24, 1139.38, 1140.35, 1149.0, 1149.69, 1141.55, 1142.56, 1159.44, 1173.69, 1174.02, 1185.45, 1173.67, 1176.11, 1179.42, 1166.17, 1156.63, 1147.8, 1148.21, 1163.42, 1172.96, 1203.06, 1190.67, 1188.71, 1213.66, 1211.29, 1257.96, 1271.59, 1273.0, 1261.61, 1260.55, 1286.31, 1297.23, 1307.08, 1305.49, 1265.08, 1239.49, 1238.7, 1258.83, 1247.12, 1259.65, 1270.31, 1252.35, 1238.97, 1233.76, 1250.53, 1257.66, 1250.08, 1258.33, 1263.94, 1269.27, 1284.27, 1283.22, 1264.71, 1274.08, 1255.74, 1255.44, 1256.83, 1235.71, 1230.0, 1217.74, 1206.08, 1204.94, 1199.43, 1202.24, 1201.27, 1207.7, 1210.24, 1211.89, 1219.96, 1233.11, 1215.3, 1221.38, 1222.5, 1224.77, 1214.1, 1187.05, 1178.4, 1173.49, 1166.27, 1167.29, 1180.44, 1163.1, 1168.53, 1155.15, 1153.16, 1153.14, 1155.08, 1145.24, 1150.3, 1168.56, 1170.73, 1170.68, 1168.06, 1173.64, 1158.07, 1149.17, 1145.66, 1127.77, 1125.16, 1109.48, 1129.07, 1152.34, 1140.08, 1144.81, 1156.18, 1155.93, 1165.54, 1157.97, 1164.0, 1151.37, 1153.53, 1153.39, 1174.24, 1176.36, 1173.79, 1170.7, 1185.43, 1190.06, 1193.7, 1192.9, 1193.15, 1196.29, 1184.7, 1193.1, 1206.01, 1214.75, 1226.39, 1224.37, 1223.72, 1225.52, 1207.93, 1212.86, 1227.91, 1243.58, 1256.24, 1274.72, 1259.3, 1276.94, 1278.19, 1284.66, 1289.05, 1298.37, 1288.1, 1290.74, 1301.43, 1287.28, 1293.93, 1299.44, 1289.3, 1285.89, 1320.57, 1355.3, 1366.09, 1389.41, 1369.98, 1356.97, 1363.32, 1362.82, 1324.08, 1339.33, 1348.5, 1443.15, 1402.86, 1421.8, 1421.82, 1452.77, 1434.16, 1422.97, 1437.27, 1445.22, 1455.81, 1447.44, 1460.14, 1476.36, 1465.63, 1455.63, 1469.01, 1466.05, 1462.74, 1476.74, 1488.57, 1482.29, 1480.62, 1450.7, 1455.86, 1487.08, 1502.3, 1495.13, 1497.92, 1473.92, 1461.64, 1470.43, 1427.33, 1426.63, 1413.43, 1434.61, 1420.43, 1438.87, 1446.07, 1450.1, 1436.7, 1487.8, 1480.82, 1479.75, 1481.92, 1466.62, 1457.98, 1455.16, 1480.95, 1458.7, 1474.57, 1462.19, 1459.87, 1460.79, 1459.37, 1465.15, 1474.84, 1454.39, 1445.27, 1455.04, 1447.64, 1460.07, 1462.04, 1461.59, 1429.15, 1414.72, 1396.73, 1413.75, 1389.41, 1402.66, 1397.96, 1415.27, 1411.48, 1420.53, 1430.84, 1431.27, 1455.71, 1481.02, 1475.24, 1461.29, 1451.27, 1435.9, 1420.03, 1425.56, 1505.22, 1392.55, 1415.94, 1426.76, 1464.98, 1466.42, 1451.75, 1458.38, 1460.29, 1472.55, 1476.02, 1453.72, 1468.72, 1449.28, 1436.6, 1449.23, 1508.9, 1525.37, 1560.11, 1554.87, 1559.88, 1547.17, 1548.77, 1549.89, 1495.6, 1482.87, 1490.64, 1487.35, 1503.92, 1514.96, 1508.03, 1500.33, 1510.17, 1494.25, 1442.43, 1451.12, 1459.87, 1444.22, 1469.31, 1455.68, 1458.67, 1456.91, 1473.2, 1488.4, 1495.95, 1498.68, 1498.12, 1499.97, 1512.6, 1500.45, 1498.3, 1520.93, 1509.62, 1516.25, 1509.12, 1514.55, 1492.97, 1464.82, 1462.45, 1461.53, 1451.5, 1479.8, 1472.62, 1471.35, 1472.3, 1463.45, 1469.68, 1485.93, 1493.38, 1489.38, 1493.95, 1497.95, 1526.18, 1476.57, 1464.82, 1406.97, 1386.53, 1370.72, 1397.35, 1374.6, 1371.05, 1372.1, 1372.53, 1344.03, 1354.07, 1356.43, 1359.3, 1369.2, 1343.35, 1338.53, 1339.8, 1327.85, 1334.35, 1340.0, 1343.9, 1332.05, 1338.65, 1302.15, 1305.3, 1325.35, 1305.65, 1283.75, 1272.7, 1274.25, 1252.05, 1267.6, 1260.75, 1241.65, 1223.0, 1265.4, 1287.0, 1295.7, 1293.2, 1270.8, 1292.2, 1309.15, 1323.3, 1308.95, 1322.05, 1311.55, 1295.15, 1284.85, 1278.2, 1262.9, 1272.85, 1268.3, 1245.3, 1253.25, 1230.45, 1205.3, 1222.3, 1222.75, 1216.55, 1221.05, 1210.7, 1215.45]\n"
     ]
    }
   ],
   "source": [
    "print('Empirical Rule: ')\n",
    "final_list = [x for x in sample if (x > sample.mean() - 2*sample.std())]\n",
    "final_list = [x for x in final_list if (x < sample.mean() + 2*sample.std())]\n",
    "print(final_list)"
   ]
  },
  {
   "cell_type": "code",
   "execution_count": 169,
   "id": "fde150d7",
   "metadata": {},
   "outputs": [
    {
     "data": {
      "image/png": "[encoded data removed]",
      "text/plain": [
       "<Figure size 640x480 with 1 Axes>"
      ]
     },
     "metadata": {},
     "output_type": "display_data"
    }
   ],
   "source": [
    "plt.hist(final_list, 20,\n",
    "         density = True,\n",
    "         histtype='bar',\n",
    "         facecolor = 'b',\n",
    "         edgecolor = 'k',\n",
    "         alpha = 0.5)\n",
    "plt.title ('Empirical Rule')\n",
    "plt.xlabel('Number of Sample')\n",
    "plt.ylabel('Probability')\n",
    "plt.show()"
   ]
  },
  {
   "cell_type": "code",
   "execution_count": 170,
   "id": "cbb5a424",
   "metadata": {},
   "outputs": [
    {
     "name": "stdout",
     "output_type": "stream",
     "text": [
      "Mean:  1108.81147819063 \n",
      "Median:  1129.9699999999998 \n",
      "Mode:  875.96\n"
     ]
    },
    {
     "data": {
      "image/png": "[encoded data removed]",
      "text/plain": [
       "<Figure size 1000x500 with 1 Axes>"
      ]
     },
     "metadata": {},
     "output_type": "display_data"
    }
   ],
   "source": [
    "mean = sample.mean()\n",
    "median = sample.median()\n",
    "mode = sample.mode()\n",
    "\n",
    "print('Mean: ',mean,'\\nMedian: ',median,'\\nMode: ',mode[0])\n",
    "plt.figure(figsize=(10,5))\n",
    "plt.hist(sample,bins=100,color='grey')\n",
    "plt.axvline(mean,color='red',label='Mean')\n",
    "plt.axvline(median,color='yellow',label='Median')\n",
    "plt.axvline(mode[0],color='green',label='Mode')\n",
    "plt.xlabel('Sample')\n",
    "plt.ylabel('Frequency')\n",
    "plt.legend()\n",
    "plt.show()"
   ]
  },
  {
   "cell_type": "code",
   "execution_count": 171,
   "id": "20a0cc40",
   "metadata": {},
   "outputs": [
    {
     "data": {
      "text/plain": [
       "<seaborn.axisgrid.FacetGrid at 0x1bc350dadb0>"
      ]
     },
     "execution_count": 171,
     "metadata": {},
     "output_type": "execute_result"
    },
    {
     "data": {
      "image/png": "[encoded data removed]",
      "text/plain": [
       "<Figure size 500x500 with 1 Axes>"
      ]
     },
     "metadata": {},
     "output_type": "display_data"
    }
   ],
   "source": [
    "import seaborn as sns\n",
    "\n",
    "sns.displot(final_list, color = 'dodgerblue')"
   ]
  },
  {
   "cell_type": "code",
   "execution_count": 172,
   "id": "3c1fb00b",
   "metadata": {},
   "outputs": [],
   "source": [
    "#convert pandas dataframe object to numpy array and sort\n",
    "h = np.asarray(sample)\n",
    "h = sorted(h)"
   ]
  },
  {
   "cell_type": "code",
   "execution_count": 173,
   "id": "224f2798",
   "metadata": {},
   "outputs": [],
   "source": [
    "#use the scipy stats module to fit a normal distribution with same mean and standard deviation\n",
    "fit = stats.norm.pdf(h, np.mean(h), np.std(h))"
   ]
  },
  {
   "cell_type": "code",
   "execution_count": 174,
   "id": "fafe9788",
   "metadata": {},
   "outputs": [
    {
     "data": {
      "image/png": "[encoded data removed]",
      "text/plain": [
       "<Figure size 640x480 with 1 Axes>"
      ]
     },
     "metadata": {},
     "output_type": "display_data"
    }
   ],
   "source": [
    "#plot both series on the histogram\n",
    "\n",
    "plt.plot(h, fit, '-', linewidth = 2, label = 'Normal Distibution with same mean and variance')\n",
    "plt.hist(h, density = True, bins = 100, label = 'Actual Distribution')\n",
    "plt.legend()\n",
    "plt.show()"
   ]
  },
  {
   "cell_type": "code",
   "execution_count": 177,
   "id": "3f92fc94",
   "metadata": {},
   "outputs": [
    {
     "name": "stdout",
     "output_type": "stream",
     "text": [
      "                            OLS Regression Results                            \n",
      "==============================================================================\n",
      "Dep. Variable:                  Close   R-squared:                       0.999\n",
      "Model:                            OLS   Adj. R-squared:                  0.999\n",
      "Method:                 Least Squares   F-statistic:                 5.340e+05\n",
      "Date:                Thu, 05 Jun 2025   Prob (F-statistic):               0.00\n",
      "Time:                        19:21:50   Log-Likelihood:                -3877.6\n",
      "No. Observations:                1238   AIC:                             7765.\n",
      "Df Residuals:                    1233   BIC:                             7791.\n",
      "Df Model:                           4                                         \n",
      "Covariance Type:            nonrobust                                         \n",
      "==============================================================================\n",
      "                 coef    std err          t      P>|t|      [0.025      0.975]\n",
      "------------------------------------------------------------------------------\n",
      "Intercept      0.7906      1.021      0.774      0.439      -1.213       2.794\n",
      "Open          -0.6246      0.017    -37.111      0.000      -0.658      -0.592\n",
      "High           0.8778      0.018     47.841      0.000       0.842       0.914\n",
      "Low            0.7451      0.017     42.841      0.000       0.711       0.779\n",
      "Volume     -3.761e-08   1.39e-08     -2.715      0.007   -6.48e-08   -1.04e-08\n",
      "==============================================================================\n",
      "Omnibus:                       87.739   Durbin-Watson:                   1.968\n",
      "Prob(Omnibus):                  0.000   Jarque-Bera (JB):              368.917\n",
      "Skew:                           0.169   Prob(JB):                     7.77e-81\n",
      "Kurtosis:                       5.653   Cond. No.                     1.64e+08\n",
      "==============================================================================\n",
      "\n",
      "Notes:\n",
      "[1] Standard Errors assume that the covariance matrix of the errors is correctly specified.\n",
      "[2] The condition number is large, 1.64e+08. This might indicate that there are\n",
      "strong multicollinearity or other numerical problems.\n"
     ]
    }
   ],
   "source": [
    "#ordinary least square\n",
    "from statsmodels.formula.api import ols\n",
    "\n",
    "mlr = ols('Close ~ Open + High + Low + Volume', dataset).fit()\n",
    "print(mlr.summary())"
   ]
  },
  {
   "cell_type": "code",
   "execution_count": 178,
   "id": "de3f2ac9",
   "metadata": {},
   "outputs": [
    {
     "name": "stdout",
     "output_type": "stream",
     "text": [
      "Sample Mean:  1108.81147819063\n",
      "P-value:  0.0\n",
      "Reject null hypothesis.\n"
     ]
    }
   ],
   "source": [
    "#one sample t-test\n",
    "from scipy.stats import ttest_1samp\n",
    "\n",
    "sample_mean = np.mean(sample)\n",
    "print('Sample Mean: ', sample_mean)\n",
    "tset, pva1 = ttest_1samp(sample, 8)\n",
    "\n",
    "print('P-value: ', pva1)\n",
    "if pva1 < 0.05: \n",
    "    print('Reject null hypothesis.')\n",
    "else:\n",
    "    print('Accept null hypothesis.')"
   ]
  },
  {
   "cell_type": "code",
   "execution_count": 179,
   "id": "e15e55e9",
   "metadata": {},
   "outputs": [
    {
     "name": "stdout",
     "output_type": "stream",
     "text": [
      "Low mean value:  1097.8081496892241\n",
      "High mean value:  1120.8752436334232\n",
      "Week 1 std value:  230.55105314504135\n",
      "Week 2 std value:  231.1283211715974\n",
      "P-value:  0.013015448457305859\n",
      "Reject the null hypothesis.\n"
     ]
    }
   ],
   "source": [
    "#two sampled T-test\n",
    "\n",
    "from scipy.stats import ttest_ind\n",
    "\n",
    "low_mean = np.mean(dataset['Low'])\n",
    "high_mean = np.mean(dataset['High'])\n",
    "print('Low mean value: ', low_mean)\n",
    "print('High mean value: ', high_mean)\n",
    "\n",
    "low_std = np.std(dataset['Low'])\n",
    "high_std = np.std(dataset['High'])\n",
    "print('Week 1 std value: ', low_std)\n",
    "print('Week 2 std value: ', high_std)\n",
    "\n",
    "ttest, pval = ttest_ind(dataset['Low'], dataset['High'])\n",
    "print('P-value: ', pval)\n",
    "\n",
    "if pval < 0.05:\n",
    "    print(\"Reject the null hypothesis.\")\n",
    "else:\n",
    "    print(\"Accept the null hypothesis.\")"
   ]
  },
  {
   "cell_type": "code",
   "execution_count": null,
   "id": "b07a228c",
   "metadata": {},
   "outputs": [],
   "source": []
  },
  {
   "cell_type": "code",
   "execution_count": null,
   "id": "8aa6def4",
   "metadata": {},
   "outputs": [],
   "source": []
  },
  {
   "cell_type": "code",
   "execution_count": null,
   "id": "b02706ec",
   "metadata": {},
   "outputs": [],
   "source": []
  }
 ],
 "metadata": {
  "kernelspec": {
   "display_name": "myenv",
   "language": "python",
   "name": "python3"
  },
  "language_info": {
   "codemirror_mode": {
    "name": "ipython",
    "version": 3
   },
   "file_extension": ".py",
   "mimetype": "text/x-python",
   "name": "python",
   "nbconvert_exporter": "python",
   "pygments_lexer": "ipython3",
   "version": "3.12.6"
  }
 },
 "nbformat": 4,
 "nbformat_minor": 5
}
