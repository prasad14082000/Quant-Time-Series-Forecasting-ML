{
 "cells": [
  {
   "cell_type": "markdown",
   "id": "3b297ecb",
   "metadata": {},
   "source": [
    "***ARRAY SELECTION NUMPY***"
   ]
  },
  {
   "cell_type": "code",
   "execution_count": 3,
   "id": "f202927c",
   "metadata": {},
   "outputs": [],
   "source": [
    "import numpy as np\n",
    "import pandas as pd\n",
    "import matplotlib.pyplot as plt\n",
    "import seaborn as sns\n",
    "sns.set(style = 'white', color_codes = True)\n",
    "\n",
    "import warnings\n",
    "warnings.filterwarnings('ignore')\n"
   ]
  },
  {
   "cell_type": "code",
   "execution_count": 4,
   "id": "22b12665",
   "metadata": {},
   "outputs": [],
   "source": [
    "import yfinance as yf"
   ]
  },
  {
   "cell_type": "code",
   "execution_count": 7,
   "id": "479c4657",
   "metadata": {},
   "outputs": [
    {
     "name": "stderr",
     "output_type": "stream",
     "text": [
      "[*********************100%***********************]  1 of 1 completed\n"
     ]
    },
    {
     "data": {
      "text/html": [
       "<div>\n",
       "<style scoped>\n",
       "    .dataframe tbody tr th:only-of-type {\n",
       "        vertical-align: middle;\n",
       "    }\n",
       "\n",
       "    .dataframe tbody tr th {\n",
       "        vertical-align: top;\n",
       "    }\n",
       "\n",
       "    .dataframe thead th {\n",
       "        text-align: right;\n",
       "    }\n",
       "</style>\n",
       "<table border=\"1\" class=\"dataframe\">\n",
       "  <thead>\n",
       "    <tr style=\"text-align: right;\">\n",
       "      <th>Price</th>\n",
       "      <th>Close</th>\n",
       "      <th>High</th>\n",
       "      <th>Low</th>\n",
       "      <th>Open</th>\n",
       "      <th>Volume</th>\n",
       "    </tr>\n",
       "    <tr>\n",
       "      <th>Date</th>\n",
       "      <th></th>\n",
       "      <th></th>\n",
       "      <th></th>\n",
       "      <th></th>\n",
       "      <th></th>\n",
       "    </tr>\n",
       "  </thead>\n",
       "  <tbody>\n",
       "    <tr>\n",
       "      <th>2014-01-02</th>\n",
       "      <td>17.192822</td>\n",
       "      <td>17.314045</td>\n",
       "      <td>17.158320</td>\n",
       "      <td>17.272083</td>\n",
       "      <td>234684800</td>\n",
       "    </tr>\n",
       "    <tr>\n",
       "      <th>2014-01-03</th>\n",
       "      <td>16.815161</td>\n",
       "      <td>17.210533</td>\n",
       "      <td>16.798064</td>\n",
       "      <td>17.184424</td>\n",
       "      <td>392467600</td>\n",
       "    </tr>\n",
       "    <tr>\n",
       "      <th>2014-01-06</th>\n",
       "      <td>16.906864</td>\n",
       "      <td>16.996071</td>\n",
       "      <td>16.585779</td>\n",
       "      <td>16.705448</td>\n",
       "      <td>412610800</td>\n",
       "    </tr>\n",
       "    <tr>\n",
       "      <th>2014-01-07</th>\n",
       "      <td>16.785954</td>\n",
       "      <td>16.969963</td>\n",
       "      <td>16.720058</td>\n",
       "      <td>16.918988</td>\n",
       "      <td>317209200</td>\n",
       "    </tr>\n",
       "    <tr>\n",
       "      <th>2014-01-08</th>\n",
       "      <td>16.892252</td>\n",
       "      <td>16.957525</td>\n",
       "      <td>16.743987</td>\n",
       "      <td>16.747716</td>\n",
       "      <td>258529600</td>\n",
       "    </tr>\n",
       "  </tbody>\n",
       "</table>\n",
       "</div>"
      ],
      "text/plain": [
       "Price           Close       High        Low       Open     Volume\n",
       "Date                                                             \n",
       "2014-01-02  17.192822  17.314045  17.158320  17.272083  234684800\n",
       "2014-01-03  16.815161  17.210533  16.798064  17.184424  392467600\n",
       "2014-01-06  16.906864  16.996071  16.585779  16.705448  412610800\n",
       "2014-01-07  16.785954  16.969963  16.720058  16.918988  317209200\n",
       "2014-01-08  16.892252  16.957525  16.743987  16.747716  258529600"
      ]
     },
     "execution_count": 7,
     "metadata": {},
     "output_type": "execute_result"
    }
   ],
   "source": [
    "symbol = 'AAPL'\n",
    "start = '2014-01-01'\n",
    "end = '2024-01-01'\n",
    "\n",
    "dataset = yf.download(symbol, start, end)\n",
    "dataset.columns = dataset.columns.get_level_values(0)\n",
    "dataset.head()"
   ]
  },
  {
   "cell_type": "code",
   "execution_count": 10,
   "id": "e4b2a423",
   "metadata": {},
   "outputs": [
    {
     "data": {
      "text/html": [
       "<div>\n",
       "<style scoped>\n",
       "    .dataframe tbody tr th:only-of-type {\n",
       "        vertical-align: middle;\n",
       "    }\n",
       "\n",
       "    .dataframe tbody tr th {\n",
       "        vertical-align: top;\n",
       "    }\n",
       "\n",
       "    .dataframe thead th {\n",
       "        text-align: right;\n",
       "    }\n",
       "</style>\n",
       "<table border=\"1\" class=\"dataframe\">\n",
       "  <thead>\n",
       "    <tr style=\"text-align: right;\">\n",
       "      <th>Price</th>\n",
       "      <th>Close</th>\n",
       "      <th>High</th>\n",
       "      <th>Low</th>\n",
       "      <th>Open</th>\n",
       "      <th>Volume</th>\n",
       "      <th>Open_Close</th>\n",
       "      <th>High_Low</th>\n",
       "      <th>Increase_Decrease</th>\n",
       "      <th>Buy_Sell_on_Open</th>\n",
       "      <th>Buy_Sell</th>\n",
       "      <th>Returns</th>\n",
       "    </tr>\n",
       "    <tr>\n",
       "      <th>Date</th>\n",
       "      <th></th>\n",
       "      <th></th>\n",
       "      <th></th>\n",
       "      <th></th>\n",
       "      <th></th>\n",
       "      <th></th>\n",
       "      <th></th>\n",
       "      <th></th>\n",
       "      <th></th>\n",
       "      <th></th>\n",
       "      <th></th>\n",
       "    </tr>\n",
       "  </thead>\n",
       "  <tbody>\n",
       "    <tr>\n",
       "      <th>2014-01-06</th>\n",
       "      <td>16.906864</td>\n",
       "      <td>16.996071</td>\n",
       "      <td>16.585779</td>\n",
       "      <td>16.705448</td>\n",
       "      <td>412610800</td>\n",
       "      <td>-0.012057</td>\n",
       "      <td>0.024738</td>\n",
       "      <td>0</td>\n",
       "      <td>1</td>\n",
       "      <td>0</td>\n",
       "      <td>0.005454</td>\n",
       "    </tr>\n",
       "    <tr>\n",
       "      <th>2014-01-07</th>\n",
       "      <td>16.785954</td>\n",
       "      <td>16.969963</td>\n",
       "      <td>16.720058</td>\n",
       "      <td>16.918988</td>\n",
       "      <td>317209200</td>\n",
       "      <td>0.007863</td>\n",
       "      <td>0.014946</td>\n",
       "      <td>0</td>\n",
       "      <td>0</td>\n",
       "      <td>1</td>\n",
       "      <td>-0.007152</td>\n",
       "    </tr>\n",
       "    <tr>\n",
       "      <th>2014-01-08</th>\n",
       "      <td>16.892252</td>\n",
       "      <td>16.957525</td>\n",
       "      <td>16.743987</td>\n",
       "      <td>16.747716</td>\n",
       "      <td>258529600</td>\n",
       "      <td>-0.008630</td>\n",
       "      <td>0.012753</td>\n",
       "      <td>1</td>\n",
       "      <td>1</td>\n",
       "      <td>0</td>\n",
       "      <td>0.006333</td>\n",
       "    </tr>\n",
       "    <tr>\n",
       "      <th>2014-01-09</th>\n",
       "      <td>16.676535</td>\n",
       "      <td>16.997931</td>\n",
       "      <td>16.640167</td>\n",
       "      <td>16.996065</td>\n",
       "      <td>279148800</td>\n",
       "      <td>0.018800</td>\n",
       "      <td>0.021500</td>\n",
       "      <td>1</td>\n",
       "      <td>0</td>\n",
       "      <td>0</td>\n",
       "      <td>-0.012770</td>\n",
       "    </tr>\n",
       "    <tr>\n",
       "      <th>2014-01-10</th>\n",
       "      <td>16.565260</td>\n",
       "      <td>16.809570</td>\n",
       "      <td>16.508378</td>\n",
       "      <td>16.779420</td>\n",
       "      <td>304976000</td>\n",
       "      <td>0.012763</td>\n",
       "      <td>0.018245</td>\n",
       "      <td>1</td>\n",
       "      <td>0</td>\n",
       "      <td>1</td>\n",
       "      <td>-0.006673</td>\n",
       "    </tr>\n",
       "  </tbody>\n",
       "</table>\n",
       "</div>"
      ],
      "text/plain": [
       "Price           Close       High        Low       Open     Volume  Open_Close  \\\n",
       "Date                                                                            \n",
       "2014-01-06  16.906864  16.996071  16.585779  16.705448  412610800   -0.012057   \n",
       "2014-01-07  16.785954  16.969963  16.720058  16.918988  317209200    0.007863   \n",
       "2014-01-08  16.892252  16.957525  16.743987  16.747716  258529600   -0.008630   \n",
       "2014-01-09  16.676535  16.997931  16.640167  16.996065  279148800    0.018800   \n",
       "2014-01-10  16.565260  16.809570  16.508378  16.779420  304976000    0.012763   \n",
       "\n",
       "Price       High_Low  Increase_Decrease  Buy_Sell_on_Open  Buy_Sell   Returns  \n",
       "Date                                                                           \n",
       "2014-01-06  0.024738                  0                 1         0  0.005454  \n",
       "2014-01-07  0.014946                  0                 0         1 -0.007152  \n",
       "2014-01-08  0.012753                  1                 1         0  0.006333  \n",
       "2014-01-09  0.021500                  1                 0         0 -0.012770  \n",
       "2014-01-10  0.018245                  1                 0         1 -0.006673  "
      ]
     },
     "execution_count": 10,
     "metadata": {},
     "output_type": "execute_result"
    }
   ],
   "source": [
    "# Create Data\n",
    "dataset['Open_Close'] = (dataset['Open'] - dataset['Close'])/dataset['Open']\n",
    "dataset['High_Low'] = (dataset['High'] - dataset['Low'])/dataset['Low']\n",
    "dataset['Increase_Decrease'] = np.where(dataset['Volume'].shift(-1) > dataset['Volume'],1,0)\n",
    "dataset['Buy_Sell_on_Open'] = np.where(dataset['Open'].shift(-1) > dataset['Open'],1,0)\n",
    "dataset['Buy_Sell'] = np.where(dataset['Close'].shift(-1) > dataset['Close'],1,0)\n",
    "dataset['Returns'] = dataset['Close'].pct_change()\n",
    "dataset = dataset.dropna()\n",
    "dataset.head()"
   ]
  },
  {
   "cell_type": "markdown",
   "id": "daf8655d",
   "metadata": {},
   "source": [
    "***FEATURE SELECTION IN ARRAY***"
   ]
  },
  {
   "cell_type": "code",
   "execution_count": 11,
   "metadata": {},
   "outputs": [
    {
     "data": {
      "text/plain": [
       "array([[ 1.69068642e+01,  1.69960709e+01,  1.65857786e+01, ...,\n",
       "         1.00000000e+00,  0.00000000e+00,  5.45361512e-03],\n",
       "       [ 1.67859535e+01,  1.69699629e+01,  1.67200581e+01, ...,\n",
       "         0.00000000e+00,  1.00000000e+00, -7.15157130e-03],\n",
       "       [ 1.68922520e+01,  1.69575248e+01,  1.67439874e+01, ...,\n",
       "         1.00000000e+00,  0.00000000e+00,  6.33258316e-03],\n",
       "       ...,\n",
       "       [ 1.91745819e+02,  1.92093281e+02,  1.89700797e+02, ...,\n",
       "         1.00000000e+00,  1.00000000e+00,  5.17844702e-04],\n",
       "       [ 1.92172699e+02,  1.93244849e+02,  1.91765676e+02, ...,\n",
       "         0.00000000e+00,  0.00000000e+00,  2.22628000e-03],\n",
       "       [ 1.91130325e+02,  1.92986726e+02,  1.90336138e+02, ...,\n",
       "         0.00000000e+00,  0.00000000e+00, -5.42415058e-03]],\n",
       "      shape=(2514, 11))"
      ]
     },
     "execution_count": 11,
     "metadata": {},
     "output_type": "execute_result"
    }
   ],
   "source": [
    "feature_data = np.asarray(dataset)\n",
    "feature_data"
   ]
  },
  {
   "cell_type": "code",
   "execution_count": 12,
   "id": "af0792fb",
   "metadata": {},
   "outputs": [
    {
     "data": {
      "text/plain": [
       "numpy.ndarray"
      ]
     },
     "execution_count": 12,
     "metadata": {},
     "output_type": "execute_result"
    }
   ],
   "source": [
    "type(feature_data)"
   ]
  },
  {
   "cell_type": "code",
   "execution_count": 13,
   "metadata": {},
   "outputs": [
    {
     "data": {
      "text/plain": [
       "array([ 1.69068642e+01,  1.69960709e+01,  1.65857786e+01,  1.67054480e+01,\n",
       "        4.12610800e+08, -1.20569133e-02,  2.47375976e-02,  0.00000000e+00,\n",
       "        1.00000000e+00,  0.00000000e+00,  5.45361512e-03])"
      ]
     },
     "execution_count": 13,
     "metadata": {},
     "output_type": "execute_result"
    }
   ],
   "source": [
    "feature_data[0]"
   ]
  },
  {
   "cell_type": "code",
   "execution_count": 14,
   "id": "066f62b2",
   "metadata": {},
   "outputs": [
    {
     "data": {
      "text/plain": [
       "np.float64(16.996070923177157)"
      ]
     },
     "execution_count": 14,
     "metadata": {},
     "output_type": "execute_result"
    }
   ],
   "source": [
    "feature_data[0][1]"
   ]
  },
  {
   "cell_type": "code",
   "execution_count": 15,
   "id": "c40224a5",
   "metadata": {},
   "outputs": [
    {
     "data": {
      "text/plain": [
       "array([ 1.67859535e+01,  1.69699629e+01,  1.67200581e+01,  1.69189876e+01,\n",
       "        3.17209200e+08,  7.86300528e-03,  1.49464046e-02,  0.00000000e+00,\n",
       "        0.00000000e+00,  1.00000000e+00, -7.15157130e-03])"
      ]
     },
     "execution_count": 15,
     "metadata": {},
     "output_type": "execute_result"
    }
   ],
   "source": [
    "#row 1, all columns\n",
    "feature_data[1, :]"
   ]
  },
  {
   "cell_type": "code",
   "execution_count": 18,
   "id": "e77c526f",
   "metadata": {},
   "outputs": [
    {
     "data": {
      "text/plain": [
       "array([ 16.90686417,  16.78595352,  16.89225197, ..., 191.74581909,\n",
       "       192.17269897, 191.13032532], shape=(2514,))"
      ]
     },
     "execution_count": 18,
     "metadata": {},
     "output_type": "execute_result"
    }
   ],
   "source": [
    "#one column with one row in array\n",
    "feature_data[:, 0]"
   ]
  },
  {
   "cell_type": "code",
   "execution_count": 19,
   "id": "fb073057",
   "metadata": {},
   "outputs": [
    {
     "data": {
      "text/plain": [
       "array([[ 1.69068642e+01,  1.69960709e+01,  1.65857786e+01, ...,\n",
       "         0.00000000e+00,  5.45361512e-03,  1.69068642e+01],\n",
       "       [ 1.67859535e+01,  1.69699629e+01,  1.67200581e+01, ...,\n",
       "         1.00000000e+00, -7.15157130e-03,  1.67859535e+01],\n",
       "       [ 1.68922520e+01,  1.69575248e+01,  1.67439874e+01, ...,\n",
       "         0.00000000e+00,  6.33258316e-03,  1.68922520e+01],\n",
       "       ...,\n",
       "       [ 1.91745819e+02,  1.92093281e+02,  1.89700797e+02, ...,\n",
       "         1.00000000e+00,  5.17844702e-04,  1.91745819e+02],\n",
       "       [ 1.92172699e+02,  1.93244849e+02,  1.91765676e+02, ...,\n",
       "         0.00000000e+00,  2.22628000e-03,  1.92172699e+02],\n",
       "       [ 1.91130325e+02,  1.92986726e+02,  1.90336138e+02, ...,\n",
       "         0.00000000e+00, -5.42415058e-03,  1.91130325e+02]],\n",
       "      shape=(2514, 12))"
      ]
     },
     "execution_count": 19,
     "metadata": {},
     "output_type": "execute_result"
    }
   ],
   "source": [
    "np.hstack((feature_data, feature_data[:, [0]]))"
   ]
  },
  {
   "cell_type": "code",
   "execution_count": 20,
   "id": "f5ce208f",
   "metadata": {},
   "outputs": [
    {
     "data": {
      "text/plain": [
       "array([ 16.90686417,  16.78595352,  16.89225197, ..., 191.74581909,\n",
       "       192.17269897, 191.13032532], shape=(2514,))"
      ]
     },
     "execution_count": 20,
     "metadata": {},
     "output_type": "execute_result"
    }
   ],
   "source": [
    "#use transpose of particular column\n",
    "feature_data.T[0]"
   ]
  },
  {
   "cell_type": "code",
   "execution_count": 21,
   "id": "0d026fc4",
   "metadata": {},
   "outputs": [
    {
     "data": {
      "text/plain": [
       "array([[ 16.90686417,  16.58577861],\n",
       "       [ 16.78595352,  16.72005815],\n",
       "       [ 16.89225197,  16.74398742],\n",
       "       ...,\n",
       "       [191.74581909, 189.70079744],\n",
       "       [192.17269897, 191.76567599],\n",
       "       [191.13032532, 190.33613821]], shape=(2514, 2))"
      ]
     },
     "execution_count": 21,
     "metadata": {},
     "output_type": "execute_result"
    }
   ],
   "source": [
    "#get more than one column\n",
    "feature_data[:, [0,2]]"
   ]
  },
  {
   "cell_type": "code",
   "execution_count": 23,
   "id": "ba2b9893",
   "metadata": {},
   "outputs": [
    {
     "data": {
      "text/plain": [
       "array([-0.00715157,  0.00633258, -0.01277019, ...,  0.00051784,\n",
       "        0.00222628, -0.00542415], shape=(2513,))"
      ]
     },
     "execution_count": 23,
     "metadata": {},
     "output_type": "execute_result"
    }
   ],
   "source": [
    "#remove element\n",
    "r = feature_data[:, -1]\n",
    "r = np.delete(r, 0)\n",
    "r"
   ]
  },
  {
   "cell_type": "code",
   "execution_count": 24,
   "id": "067564ec",
   "metadata": {},
   "outputs": [
    {
     "name": "stdout",
     "output_type": "stream",
     "text": [
      "Compare 2 array data\n",
      "Original Data:\n",
      "[[ 1.69068642e+01  1.69960709e+01  1.65857786e+01 ...  1.00000000e+00\n",
      "   0.00000000e+00  5.45361512e-03]\n",
      " [ 1.67859535e+01  1.69699629e+01  1.67200581e+01 ...  0.00000000e+00\n",
      "   1.00000000e+00 -7.15157130e-03]\n",
      " [ 1.68922520e+01  1.69575248e+01  1.67439874e+01 ...  1.00000000e+00\n",
      "   0.00000000e+00  6.33258316e-03]\n",
      " ...\n",
      " [ 1.91745819e+02  1.92093281e+02  1.89700797e+02 ...  1.00000000e+00\n",
      "   1.00000000e+00  5.17844702e-04]\n",
      " [ 1.92172699e+02  1.93244849e+02  1.91765676e+02 ...  0.00000000e+00\n",
      "   0.00000000e+00  2.22628000e-03]\n",
      " [ 1.91130325e+02  1.92986726e+02  1.90336138e+02 ...  0.00000000e+00\n",
      "   0.00000000e+00 -5.42415058e-03]]\n",
      "--------------------------------------------------\n",
      "New array data:\n",
      " [[ 1.67859535e+01  1.69699629e+01  1.67200581e+01 ...  0.00000000e+00\n",
      "   1.00000000e+00 -7.15157130e-03]\n",
      " [ 1.68922520e+01  1.69575248e+01  1.67439874e+01 ...  1.00000000e+00\n",
      "   0.00000000e+00  6.33258316e-03]\n",
      " [ 1.66765347e+01  1.69979305e+01  1.66401674e+01 ...  0.00000000e+00\n",
      "   0.00000000e+00 -1.27701929e-02]\n",
      " ...\n",
      " [ 1.91745819e+02  1.92093281e+02  1.89700797e+02 ...  1.00000000e+00\n",
      "   1.00000000e+00  5.17844702e-04]\n",
      " [ 1.92172699e+02  1.93244849e+02  1.91765676e+02 ...  0.00000000e+00\n",
      "   0.00000000e+00  2.22628000e-03]\n",
      " [ 1.91130325e+02  1.92986726e+02  1.90336138e+02 ...  0.00000000e+00\n",
      "   0.00000000e+00 -5.42415058e-03]]\n"
     ]
    }
   ],
   "source": [
    "print(\"Compare 2 array data\")\n",
    "print(\"Original Data:\")\n",
    "print(feature_data)\n",
    "print(\"-\" * 50)\n",
    "a=np.delete(feature_data, 0, axis=0) # Delete the first column\n",
    "print(\"New array data:\\n\", a)"
   ]
  },
  {
   "cell_type": "code",
   "execution_count": 26,
   "id": "e6550ee6",
   "metadata": {},
   "outputs": [
    {
     "name": "stdout",
     "output_type": "stream",
     "text": [
      "Example Stock with 11 features:  \n",
      " [ 1.69068642e+01  1.69960709e+01  1.65857786e+01  1.67054480e+01\n",
      "  4.12610800e+08 -1.20569133e-02  2.47375976e-02  0.00000000e+00\n",
      "  1.00000000e+00  0.00000000e+00  5.45361512e-03] Stock Data Features\n"
     ]
    }
   ],
   "source": [
    "print('Example Stock with 11 features: ', '\\n', feature_data[0], 'Stock Data Features')"
   ]
  },
  {
   "cell_type": "code",
   "execution_count": 28,
   "id": "7d8b22ec",
   "metadata": {},
   "outputs": [],
   "source": [
    "selected_features = feature_data[:, [1, 2, 3, 10]]"
   ]
  },
  {
   "cell_type": "code",
   "execution_count": 29,
   "id": "9dabc088",
   "metadata": {},
   "outputs": [
    {
     "name": "stdout",
     "output_type": "stream",
     "text": [
      "Selected Features Names: \n",
      " [1.65857786e+01 1.67054480e+01 5.45361512e-03]\n",
      "First few stocks with Features, no labels:  \n",
      " [[ 1.69699629e+01  1.67200581e+01  1.69189876e+01 -7.15157130e-03]\n",
      " [ 1.69575248e+01  1.67439874e+01  1.67477158e+01  6.33258316e-03]] ...\n",
      "2513 Stocks by 4 Features\n"
     ]
    }
   ],
   "source": [
    "x_data_features = selected_features[1:, :]\n",
    "x_data_features[x_data_features == ''] = 0.0\n",
    "x_data = x_data_features\n",
    "\n",
    "selected_features_labels = selected_features[0, 1:]\n",
    "print('Selected Features Names: \\n', selected_features_labels)\n",
    "print('First few stocks with Features, no labels: ','\\n', x_data[0:2, :], '...')\n",
    "print(np.size(x_data[:, 0]), 'Stocks by', np.size(x_data[0, :]), 'Features')"
   ]
  },
  {
   "cell_type": "code",
   "execution_count": 32,
   "id": "68883ca4",
   "metadata": {},
   "outputs": [
    {
     "name": "stdout",
     "output_type": "stream",
     "text": [
      "Features for Tensor:  3\n"
     ]
    }
   ],
   "source": [
    "#place dataset into input(x) and output(y) variables\n",
    "\n",
    "x_strings = x_data_features[:, 1:] #takes off tickers, as they can't be tensor'd\n",
    "raw_x = x_strings.astype(float)  #convert strings to float\n",
    "\n",
    "#num_of_features = np.size(raw_x[0, :])\n",
    "print('Features for Tensor: ', np.size(raw_x[0, :]))"
   ]
  },
  {
   "cell_type": "code",
   "execution_count": null,
   "id": "7e89db42",
   "metadata": {},
   "outputs": [],
   "source": []
  },
  {
   "cell_type": "code",
   "execution_count": null,
   "id": "16ea3fcf",
   "metadata": {},
   "outputs": [],
   "source": []
  }
 ],
 "metadata": {
  "kernelspec": {
   "display_name": "myenv",
   "language": "python",
   "name": "python3"
  },
  "language_info": {
   "codemirror_mode": {
    "name": "ipython",
    "version": 3
   },
   "file_extension": ".py",
   "mimetype": "text/x-python",
   "name": "python",
   "nbconvert_exporter": "python",
   "pygments_lexer": "ipython3",
   "version": "3.12.6"
  }
 },
 "nbformat": 4,
 "nbformat_minor": 5
}
