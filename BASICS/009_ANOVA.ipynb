{
 "cells": [
  {
   "cell_type": "markdown",
   "id": "dc23e1b7",
   "metadata": {},
   "source": [
    "***ANOVA: F-VALUE for FEATURE SELECTION***"
   ]
  },
  {
   "cell_type": "code",
   "execution_count": 1,
   "id": "30d2d00b",
   "metadata": {},
   "outputs": [],
   "source": [
    "import numpy as np\n",
    "import matplotlib.pyplot as plt\n",
    "import pandas as pd\n",
    "\n",
    "import warnings\n",
    "warnings.filterwarnings('ignore')"
   ]
  },
  {
   "cell_type": "code",
   "execution_count": 2,
   "id": "a93f90ea",
   "metadata": {},
   "outputs": [],
   "source": [
    "import yfinance as yf"
   ]
  },
  {
   "cell_type": "code",
   "execution_count": 7,
   "id": "92d07221",
   "metadata": {},
   "outputs": [
    {
     "name": "stderr",
     "output_type": "stream",
     "text": [
      "[*********************100%***********************]  1 of 1 completed"
     ]
    },
    {
     "name": "stderr",
     "output_type": "stream",
     "text": [
      "\n"
     ]
    },
    {
     "data": {
      "text/html": [
       "<div>\n",
       "<style scoped>\n",
       "    .dataframe tbody tr th:only-of-type {\n",
       "        vertical-align: middle;\n",
       "    }\n",
       "\n",
       "    .dataframe tbody tr th {\n",
       "        vertical-align: top;\n",
       "    }\n",
       "\n",
       "    .dataframe thead th {\n",
       "        text-align: right;\n",
       "    }\n",
       "</style>\n",
       "<table border=\"1\" class=\"dataframe\">\n",
       "  <thead>\n",
       "    <tr style=\"text-align: right;\">\n",
       "      <th>Price</th>\n",
       "      <th>Close</th>\n",
       "      <th>High</th>\n",
       "      <th>Low</th>\n",
       "      <th>Open</th>\n",
       "      <th>Volume</th>\n",
       "    </tr>\n",
       "    <tr>\n",
       "      <th>Date</th>\n",
       "      <th></th>\n",
       "      <th></th>\n",
       "      <th></th>\n",
       "      <th></th>\n",
       "      <th></th>\n",
       "    </tr>\n",
       "  </thead>\n",
       "  <tbody>\n",
       "    <tr>\n",
       "      <th>2014-01-02</th>\n",
       "      <td>17.192822</td>\n",
       "      <td>17.314045</td>\n",
       "      <td>17.158320</td>\n",
       "      <td>17.272083</td>\n",
       "      <td>234684800</td>\n",
       "    </tr>\n",
       "    <tr>\n",
       "      <th>2014-01-03</th>\n",
       "      <td>16.815170</td>\n",
       "      <td>17.210543</td>\n",
       "      <td>16.798074</td>\n",
       "      <td>17.184434</td>\n",
       "      <td>392467600</td>\n",
       "    </tr>\n",
       "    <tr>\n",
       "      <th>2014-01-06</th>\n",
       "      <td>16.906860</td>\n",
       "      <td>16.996067</td>\n",
       "      <td>16.585775</td>\n",
       "      <td>16.705444</td>\n",
       "      <td>412610800</td>\n",
       "    </tr>\n",
       "    <tr>\n",
       "      <th>2014-01-07</th>\n",
       "      <td>16.785954</td>\n",
       "      <td>16.969963</td>\n",
       "      <td>16.720058</td>\n",
       "      <td>16.918988</td>\n",
       "      <td>317209200</td>\n",
       "    </tr>\n",
       "    <tr>\n",
       "      <th>2014-01-08</th>\n",
       "      <td>16.892258</td>\n",
       "      <td>16.957531</td>\n",
       "      <td>16.743993</td>\n",
       "      <td>16.747721</td>\n",
       "      <td>258529600</td>\n",
       "    </tr>\n",
       "  </tbody>\n",
       "</table>\n",
       "</div>"
      ],
      "text/plain": [
       "Price           Close       High        Low       Open     Volume\n",
       "Date                                                             \n",
       "2014-01-02  17.192822  17.314045  17.158320  17.272083  234684800\n",
       "2014-01-03  16.815170  17.210543  16.798074  17.184434  392467600\n",
       "2014-01-06  16.906860  16.996067  16.585775  16.705444  412610800\n",
       "2014-01-07  16.785954  16.969963  16.720058  16.918988  317209200\n",
       "2014-01-08  16.892258  16.957531  16.743993  16.747721  258529600"
      ]
     },
     "execution_count": 7,
     "metadata": {},
     "output_type": "execute_result"
    }
   ],
   "source": [
    "symbol = 'AAPL'\n",
    "start = '2014-01-01'\n",
    "end = '2024-01-01'\n",
    "\n",
    "dataset = yf.download(symbol, start, end)\n",
    "dataset.columns = dataset.columns.get_level_values(0)\n",
    "dataset.head()"
   ]
  },
  {
   "cell_type": "code",
   "execution_count": 9,
   "id": "05aca805",
   "metadata": {},
   "outputs": [
    {
     "data": {
      "text/plain": [
       "(2514, 9)"
      ]
     },
     "execution_count": 9,
     "metadata": {},
     "output_type": "execute_result"
    }
   ],
   "source": [
    "dataset['Increase_Decrease'] = np.where(dataset['Volume'].shift(-1) > dataset['Volume'],1,0)\n",
    "dataset['Buy_Sell_on_Open'] = np.where(dataset['Open'].shift(-1) > dataset['Open'],1,0)\n",
    "dataset['Buy_Sell'] = np.where(dataset['Close'].shift(-1) > dataset['Close'],1,0)\n",
    "dataset['Returns'] = dataset['Close'].pct_change()\n",
    "dataset = dataset.dropna()\n",
    "\n",
    "dataset.shape"
   ]
  },
  {
   "cell_type": "code",
   "execution_count": 11,
   "id": "fbd0240a",
   "metadata": {},
   "outputs": [],
   "source": [
    "x = dataset[['Open', 'High', 'Low', 'Volume', 'Increase_Decrease', 'Buy_Sell_on_Open', 'Buy_Sell', 'Returns']]\n",
    "y = dataset['Close']"
   ]
  },
  {
   "cell_type": "code",
   "execution_count": 12,
   "id": "0931f79b",
   "metadata": {},
   "outputs": [],
   "source": [
    "from sklearn.feature_selection import SelectKBest\n",
    "from sklearn.feature_selection import f_classif"
   ]
  },
  {
   "cell_type": "code",
   "execution_count": 14,
   "id": "1a00d8ca",
   "metadata": {},
   "outputs": [],
   "source": [
    "#create on selectKBest object to select features with two best ANOVA F-values\n",
    "fvalue_selector = SelectKBest(f_classif, k = 2)\n",
    "\n",
    "#Apply the selectionKBest objectto the features and target\n",
    "x_kbest = fvalue_selector.fit_transform(x, y)"
   ]
  },
  {
   "cell_type": "code",
   "execution_count": 16,
   "id": "bfafae1e",
   "metadata": {},
   "outputs": [
    {
     "name": "stdout",
     "output_type": "stream",
     "text": [
      "Original number of features: 8\n",
      "Reduced number of features: 2\n"
     ]
    }
   ],
   "source": [
    "print('Original number of features:', x.shape[1])\n",
    "print('Reduced number of features:', x_kbest.shape[1])"
   ]
  },
  {
   "cell_type": "code",
   "execution_count": 17,
   "id": "768b5f8f",
   "metadata": {},
   "outputs": [
    {
     "data": {
      "text/plain": [
       "array([2.21177075e+03, 5.33419390e+03, 6.79230922e+03, 5.35879916e+00,\n",
       "       9.72666761e-01, 9.19922967e-01, 8.81724063e-01, 2.28137780e+00])"
      ]
     },
     "execution_count": 17,
     "metadata": {},
     "output_type": "execute_result"
    }
   ],
   "source": [
    "fvalue_selector.scores_"
   ]
  },
  {
   "cell_type": "code",
   "execution_count": 18,
   "id": "bbb9ae34",
   "metadata": {},
   "outputs": [
    {
     "data": {
      "text/plain": [
       "array([1.81824835e-58, 6.40338090e-66, 5.75757961e-68, 5.63925235e-09,\n",
       "       5.77535882e-01, 6.71453079e-01, 7.37575878e-01, 9.36134475e-04])"
      ]
     },
     "execution_count": 18,
     "metadata": {},
     "output_type": "execute_result"
    }
   ],
   "source": [
    "fvalue_selector.pvalues_"
   ]
  },
  {
   "cell_type": "code",
   "execution_count": 21,
   "id": "1e31361d",
   "metadata": {},
   "outputs": [
    {
     "name": "stdout",
     "output_type": "stream",
     "text": [
      "  Feat_names     F_scores\n",
      "1        Low  6792.309223\n",
      "0       High  5334.193902\n"
     ]
    }
   ],
   "source": [
    "names = x.columns.values[fvalue_selector.get_support()]\n",
    "scores = fvalue_selector.scores_[fvalue_selector.get_support()]\n",
    "names_scores = list(zip(names, scores))\n",
    "ns_df = pd.DataFrame(data = names_scores, columns=['Feat_names', 'F_scores'])\n",
    "\n",
    "#sort the dataframe for better visualization\n",
    "ns_df_sorted = ns_df.sort_values(['F_scores', 'Feat_names'], ascending = [False, True])\n",
    "print(ns_df_sorted)"
   ]
  },
  {
   "cell_type": "code",
   "execution_count": null,
   "id": "91448f40",
   "metadata": {},
   "outputs": [],
   "source": []
  },
  {
   "cell_type": "code",
   "execution_count": null,
   "id": "25ad086f",
   "metadata": {},
   "outputs": [],
   "source": []
  }
 ],
 "metadata": {
  "kernelspec": {
   "display_name": "myenv",
   "language": "python",
   "name": "python3"
  },
  "language_info": {
   "codemirror_mode": {
    "name": "ipython",
    "version": 3
   },
   "file_extension": ".py",
   "mimetype": "text/x-python",
   "name": "python",
   "nbconvert_exporter": "python",
   "pygments_lexer": "ipython3",
   "version": "3.12.6"
  }
 },
 "nbformat": 4,
 "nbformat_minor": 5
}
